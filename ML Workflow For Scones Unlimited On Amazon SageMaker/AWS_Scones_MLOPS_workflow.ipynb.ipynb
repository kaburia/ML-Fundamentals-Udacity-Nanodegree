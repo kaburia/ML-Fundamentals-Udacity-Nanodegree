{
 "cells": [
  {
   "cell_type": "markdown",
   "metadata": {},
   "source": [
    "# Deploy and monitor a machine learning workflow for Image Classification"
   ]
  },
  {
   "cell_type": "markdown",
   "metadata": {},
   "source": [
    "## Setting up this notebook\n",
    "\n",
    "Notes about the instance size and kernel setup: this notebook has been tested on\n",
    "\n",
    "1. The `Python 3 (Data Science)` kernel\n",
    "2. The `ml.t3.medium` Sagemaker notebook instance\n",
    "\n",
    "## Data Staging\n",
    "\n",
    "We'll use a sample dataset called CIFAR to simulate the challenges Scones Unlimited are facing in Image Classification. In order to start working with CIFAR we'll need to:\n",
    "\n",
    "1. Extract the data from a hosting service\n",
    "2. Transform it into a usable shape and format\n",
    "3. Load it into a production system\n",
    "\n",
    "In other words, we're going to do some simple ETL!\n",
    "\n",
    "### 1. Extract the data from the hosting service\n",
    "\n",
    "In the cell below, define a function `extract_cifar_data` that extracts python version of the CIFAR-100 dataset. The CIFAR dataaset is open source and generously hosted by the University of Toronto at: https://www.cs.toronto.edu/~kriz/cifar-100-python.tar.gz "
   ]
  },
  {
   "cell_type": "code",
   "execution_count": 2,
   "metadata": {
    "tags": []
   },
   "outputs": [],
   "source": [
    "import requests\n",
    "\n",
    "def extract_cifar_data(url, filename=\"cifar.tar.gz\"):\n",
    "    \"\"\"A function for extracting the CIFAR-100 dataset and storing it as a gzipped file\n",
    "    \n",
    "    Arguments:\n",
    "    url      -- the URL where the dataset is hosted\n",
    "    filename -- the full path where the dataset will be written\n",
    "    \n",
    "    \"\"\"\n",
    "    \n",
    "    # Todo: request the data from the data url\n",
    "    # Hint: use `requests.get` method\n",
    "    r = requests.get(url)\n",
    "    with open(filename, \"wb\") as file_context:\n",
    "        file_context.write(r.content)\n",
    "    return"
   ]
  },
  {
   "cell_type": "markdown",
   "metadata": {},
   "source": [
    "Let's test it out! Run the following cell and check whether a new file `cifar.tar.gz` is created in the file explorer."
   ]
  },
  {
   "cell_type": "code",
   "execution_count": 3,
   "metadata": {
    "tags": []
   },
   "outputs": [],
   "source": [
    "extract_cifar_data(\"https://www.cs.toronto.edu/~kriz/cifar-100-python.tar.gz\")     "
   ]
  },
  {
   "cell_type": "markdown",
   "metadata": {},
   "source": [
    "### 2. Transform the data into a usable shape and format\n",
    "\n",
    "Clearly, distributing the data as a gzipped archive makes sense for the hosting service! It saves on bandwidth, storage, and it's a widely-used archive format. In fact, it's so widely used that the Python community ships a utility for working with them, `tarfile`, as part of its Standard Library. Execute the following cell to decompress your extracted dataset:"
   ]
  },
  {
   "cell_type": "code",
   "execution_count": 4,
   "metadata": {
    "tags": []
   },
   "outputs": [],
   "source": [
    "import tarfile\n",
    "\n",
    "with tarfile.open(\"cifar.tar.gz\", \"r:gz\") as tar:\n",
    "    tar.extractall()"
   ]
  },
  {
   "cell_type": "markdown",
   "metadata": {},
   "source": [
    "A new folder `cifar-100-python` should be created, containing `meta`, `test`, and `train` files. These files are `pickles` and the [CIFAR homepage](https://www.cs.toronto.edu/~kriz/cifar.html) provides a simple script that can be used to load them. We've adapted the script below for you to run:"
   ]
  },
  {
   "cell_type": "code",
   "execution_count": 5,
   "metadata": {
    "tags": []
   },
   "outputs": [],
   "source": [
    "import pickle\n",
    "\n",
    "with open(\"./cifar-100-python/meta\", \"rb\") as f:\n",
    "    dataset_meta = pickle.load(f, encoding='bytes')\n",
    "\n",
    "with open(\"./cifar-100-python/test\", \"rb\") as f:\n",
    "    dataset_test = pickle.load(f, encoding='bytes')\n",
    "\n",
    "with open(\"./cifar-100-python/train\", \"rb\") as f:\n",
    "    dataset_train = pickle.load(f, encoding='bytes')"
   ]
  },
  {
   "cell_type": "code",
   "execution_count": 6,
   "metadata": {
    "tags": []
   },
   "outputs": [
    {
     "data": {
      "text/plain": [
       "dict_keys([b'filenames', b'batch_label', b'fine_labels', b'coarse_labels', b'data'])"
      ]
     },
     "execution_count": 6,
     "metadata": {},
     "output_type": "execute_result"
    }
   ],
   "source": [
    "# Feel free to explore the datasets\n",
    "\n",
    "dataset_train.keys()"
   ]
  },
  {
   "cell_type": "markdown",
   "metadata": {},
   "source": [
    "As documented on the homepage, `b'data'` contains rows of 3073 unsigned integers, representing three channels (red, green, and blue) for one 32x32 pixel image per row."
   ]
  },
  {
   "cell_type": "code",
   "execution_count": 7,
   "metadata": {
    "tags": []
   },
   "outputs": [
    {
     "data": {
      "text/plain": [
       "3072"
      ]
     },
     "execution_count": 7,
     "metadata": {},
     "output_type": "execute_result"
    }
   ],
   "source": [
    "32*32*3"
   ]
  },
  {
   "cell_type": "markdown",
   "metadata": {},
   "source": [
    "For a simple gut-check, let's transform one of our images. Each 1024 items in a row is a channel (red, green, then blue). Each 32 items in the channel are a row in the 32x32 image. Using python, we can stack these channels into a 32x32x3 array, and save it as a PNG file:"
   ]
  },
  {
   "cell_type": "code",
   "execution_count": 57,
   "metadata": {
    "tags": []
   },
   "outputs": [],
   "source": [
    "import numpy as np\n",
    "\n",
    "# Each 1024 in a row is a channel (red, green, then blue)\n",
    "row = dataset_train[b'data'][0]\n",
    "red, green, blue = row[0:1024], row[1024:2048], row[2048:]\n",
    "\n",
    "# Each 32 items in the channel are a row in the 32x32 image\n",
    "red = red.reshape(32,32)\n",
    "green = green.reshape(32,32)\n",
    "blue = blue.reshape(32,32)\n",
    "\n",
    "# Combine the channels into a 32x32x3 image!\n",
    "combined = np.dstack((red,green,blue))"
   ]
  },
  {
   "cell_type": "code",
   "execution_count": 58,
   "metadata": {
    "tags": []
   },
   "outputs": [
    {
     "data": {
      "text/plain": [
       "array([255, 255, 255, ...,  10,  59,  79], dtype=uint8)"
      ]
     },
     "execution_count": 58,
     "metadata": {},
     "output_type": "execute_result"
    }
   ],
   "source": [
    "row"
   ]
  },
  {
   "cell_type": "markdown",
   "metadata": {},
   "source": [
    "For a more concise version, consider the following:"
   ]
  },
  {
   "cell_type": "code",
   "execution_count": 9,
   "metadata": {
    "tags": []
   },
   "outputs": [],
   "source": [
    "# All in one:\n",
    "test_image = np.dstack((\n",
    "    row[0:1024].reshape(32,32),\n",
    "    row[1024:2048].reshape(32,32),\n",
    "    row[2048:].reshape(32,32)\n",
    "))"
   ]
  },
  {
   "cell_type": "code",
   "execution_count": 13,
   "metadata": {
    "tags": []
   },
   "outputs": [
    {
     "data": {
      "image/png": "[encoded data removed]",
      "text/plain": [
       "<Figure size 640x480 with 1 Axes>"
      ]
     },
     "metadata": {},
     "output_type": "display_data"
    }
   ],
   "source": [
    "import matplotlib.pyplot as plt\n",
    "plt.imshow(test_image);\n",
    "plt.show()"
   ]
  },
  {
   "cell_type": "markdown",
   "metadata": {},
   "source": [
    "Looks like a cow! Let's check the label. `dataset_meta` contains label names in order, and `dataset_train` has a list of labels for each row."
   ]
  },
  {
   "cell_type": "code",
   "execution_count": 14,
   "metadata": {
    "tags": []
   },
   "outputs": [
    {
     "data": {
      "text/plain": [
       "19"
      ]
     },
     "execution_count": 14,
     "metadata": {},
     "output_type": "execute_result"
    }
   ],
   "source": [
    "dataset_train[b'fine_labels'][0]"
   ]
  },
  {
   "cell_type": "markdown",
   "metadata": {},
   "source": [
    "Our image has a label of `19`, so let's see what the 19th item is in the list of label names."
   ]
  },
  {
   "cell_type": "code",
   "execution_count": 15,
   "metadata": {
    "tags": []
   },
   "outputs": [
    {
     "name": "stdout",
     "output_type": "stream",
     "text": [
      "b'cattle'\n"
     ]
    }
   ],
   "source": [
    "print(dataset_meta[b'fine_label_names'][19])"
   ]
  },
  {
   "cell_type": "markdown",
   "metadata": {},
   "source": [
    "Ok! 'cattle' sounds about right. By the way, using the previous two lines we can do:"
   ]
  },
  {
   "cell_type": "code",
   "execution_count": 16,
   "metadata": {
    "tags": []
   },
   "outputs": [
    {
     "name": "stdout",
     "output_type": "stream",
     "text": [
      "b'cattle'\n"
     ]
    }
   ],
   "source": [
    "n = 0\n",
    "print(dataset_meta[b'fine_label_names'][dataset_train[b'fine_labels'][n]])"
   ]
  },
  {
   "cell_type": "markdown",
   "metadata": {},
   "source": [
    "Now we know how to check labels, is there a way that we can also check file names? `dataset_train` also contains a `b'filenames'` key. Let's see what we have here:"
   ]
  },
  {
   "cell_type": "code",
   "execution_count": 17,
   "metadata": {
    "tags": []
   },
   "outputs": [
    {
     "name": "stdout",
     "output_type": "stream",
     "text": [
      "b'bos_taurus_s_000507.png'\n"
     ]
    }
   ],
   "source": [
    "print(dataset_train[b'filenames'][0])"
   ]
  },
  {
   "cell_type": "markdown",
   "metadata": {},
   "source": [
    "\"Taurus\" is the name of a subspecies of cattle, so this looks like a pretty reasonable filename. To save an image we can also do:"
   ]
  },
  {
   "cell_type": "code",
   "execution_count": 18,
   "metadata": {
    "tags": []
   },
   "outputs": [],
   "source": [
    "plt.imsave(\"file.png\", test_image)"
   ]
  },
  {
   "cell_type": "markdown",
   "metadata": {},
   "source": [
    "Your new PNG file should now appear in the file explorer -- go ahead and pop it open to see!\n",
    "\n",
    "Now that you know how to reshape the images, save them as files, and capture their filenames and labels, let's just capture all the bicycles and motorcycles and save them. Scones Unlimited can use a model that tells these apart to route delivery drivers automatically.\n",
    "\n",
    "In the following cell, identify the label numbers for Bicycles and Motorcycles:"
   ]
  },
  {
   "cell_type": "code",
   "execution_count": 33,
   "metadata": {
    "tags": []
   },
   "outputs": [
    {
     "data": {
      "text/html": [
       "<div>\n",
       "<style scoped>\n",
       "    .dataframe tbody tr th:only-of-type {\n",
       "        vertical-align: middle;\n",
       "    }\n",
       "\n",
       "    .dataframe tbody tr th {\n",
       "        vertical-align: top;\n",
       "    }\n",
       "\n",
       "    .dataframe thead th {\n",
       "        text-align: right;\n",
       "    }\n",
       "</style>\n",
       "<table border=\"1\" class=\"dataframe\">\n",
       "  <thead>\n",
       "    <tr style=\"text-align: right;\">\n",
       "      <th></th>\n",
       "      <th>b'filenames'</th>\n",
       "      <th>b'batch_label'</th>\n",
       "      <th>b'fine_labels'</th>\n",
       "      <th>b'coarse_labels'</th>\n",
       "      <th>b'data'</th>\n",
       "    </tr>\n",
       "  </thead>\n",
       "  <tbody>\n",
       "    <tr>\n",
       "      <th>0</th>\n",
       "      <td>b'bos_taurus_s_000507.png'</td>\n",
       "      <td>116</td>\n",
       "      <td>19</td>\n",
       "      <td>11</td>\n",
       "      <td>[255, 255, 255, 255, 255, 255, 255, 255, 255, ...</td>\n",
       "    </tr>\n",
       "    <tr>\n",
       "      <th>1</th>\n",
       "      <td>b'stegosaurus_s_000125.png'</td>\n",
       "      <td>114</td>\n",
       "      <td>29</td>\n",
       "      <td>15</td>\n",
       "      <td>[255, 253, 253, 253, 253, 253, 253, 253, 253, ...</td>\n",
       "    </tr>\n",
       "    <tr>\n",
       "      <th>2</th>\n",
       "      <td>b'mcintosh_s_000643.png'</td>\n",
       "      <td>97</td>\n",
       "      <td>0</td>\n",
       "      <td>4</td>\n",
       "      <td>[250, 248, 247, 248, 249, 249, 248, 248, 247, ...</td>\n",
       "    </tr>\n",
       "    <tr>\n",
       "      <th>3</th>\n",
       "      <td>b'altar_boy_s_001435.png'</td>\n",
       "      <td>105</td>\n",
       "      <td>11</td>\n",
       "      <td>14</td>\n",
       "      <td>[124, 131, 135, 138, 140, 144, 148, 152, 156, ...</td>\n",
       "    </tr>\n",
       "    <tr>\n",
       "      <th>4</th>\n",
       "      <td>b'cichlid_s_000031.png'</td>\n",
       "      <td>110</td>\n",
       "      <td>1</td>\n",
       "      <td>1</td>\n",
       "      <td>[43, 32, 87, 127, 55, 48, 51, 87, 121, 113, 13...</td>\n",
       "    </tr>\n",
       "    <tr>\n",
       "      <th>...</th>\n",
       "      <td>...</td>\n",
       "      <td>...</td>\n",
       "      <td>...</td>\n",
       "      <td>...</td>\n",
       "      <td>...</td>\n",
       "    </tr>\n",
       "    <tr>\n",
       "      <th>49995</th>\n",
       "      <td>b'tree_squirrel_s_000969.png'</td>\n",
       "      <td>None</td>\n",
       "      <td>80</td>\n",
       "      <td>16</td>\n",
       "      <td>[130, 127, 131, 142, 127, 117, 138, 154, 156, ...</td>\n",
       "    </tr>\n",
       "    <tr>\n",
       "      <th>49996</th>\n",
       "      <td>b'tiger_beetle_s_000315.png'</td>\n",
       "      <td>None</td>\n",
       "      <td>7</td>\n",
       "      <td>7</td>\n",
       "      <td>[167, 199, 193, 192, 195, 203, 188, 210, 200, ...</td>\n",
       "    </tr>\n",
       "    <tr>\n",
       "      <th>49997</th>\n",
       "      <td>b'bear_s_000631.png'</td>\n",
       "      <td>None</td>\n",
       "      <td>3</td>\n",
       "      <td>8</td>\n",
       "      <td>[248, 240, 236, 234, 237, 236, 237, 238, 235, ...</td>\n",
       "    </tr>\n",
       "    <tr>\n",
       "      <th>49998</th>\n",
       "      <td>b'beetle_s_000411.png'</td>\n",
       "      <td>None</td>\n",
       "      <td>7</td>\n",
       "      <td>7</td>\n",
       "      <td>[156, 151, 151, 151, 154, 154, 151, 151, 155, ...</td>\n",
       "    </tr>\n",
       "    <tr>\n",
       "      <th>49999</th>\n",
       "      <td>b'mako_s_001274.png'</td>\n",
       "      <td>None</td>\n",
       "      <td>73</td>\n",
       "      <td>1</td>\n",
       "      <td>[31, 30, 31, 32, 31, 31, 32, 31, 30, 30, 31, 3...</td>\n",
       "    </tr>\n",
       "  </tbody>\n",
       "</table>\n",
       "<p>50000 rows × 5 columns</p>\n",
       "</div>"
      ],
      "text/plain": [
       "                        b'filenames' b'batch_label' b'fine_labels'  \\\n",
       "0         b'bos_taurus_s_000507.png'            116             19   \n",
       "1        b'stegosaurus_s_000125.png'            114             29   \n",
       "2           b'mcintosh_s_000643.png'             97              0   \n",
       "3          b'altar_boy_s_001435.png'            105             11   \n",
       "4            b'cichlid_s_000031.png'            110              1   \n",
       "...                              ...            ...            ...   \n",
       "49995  b'tree_squirrel_s_000969.png'           None             80   \n",
       "49996   b'tiger_beetle_s_000315.png'           None              7   \n",
       "49997           b'bear_s_000631.png'           None              3   \n",
       "49998         b'beetle_s_000411.png'           None              7   \n",
       "49999           b'mako_s_001274.png'           None             73   \n",
       "\n",
       "      b'coarse_labels'                                            b'data'  \n",
       "0                   11  [255, 255, 255, 255, 255, 255, 255, 255, 255, ...  \n",
       "1                   15  [255, 253, 253, 253, 253, 253, 253, 253, 253, ...  \n",
       "2                    4  [250, 248, 247, 248, 249, 249, 248, 248, 247, ...  \n",
       "3                   14  [124, 131, 135, 138, 140, 144, 148, 152, 156, ...  \n",
       "4                    1  [43, 32, 87, 127, 55, 48, 51, 87, 121, 113, 13...  \n",
       "...                ...                                                ...  \n",
       "49995               16  [130, 127, 131, 142, 127, 117, 138, 154, 156, ...  \n",
       "49996                7  [167, 199, 193, 192, 195, 203, 188, 210, 200, ...  \n",
       "49997                8  [248, 240, 236, 234, 237, 236, 237, 238, 235, ...  \n",
       "49998                7  [156, 151, 151, 151, 154, 154, 151, 151, 155, ...  \n",
       "49999                1  [31, 30, 31, 32, 31, 31, 32, 31, 30, 30, 31, 3...  \n",
       "\n",
       "[50000 rows x 5 columns]"
      ]
     },
     "execution_count": 33,
     "metadata": {},
     "output_type": "execute_result"
    }
   ],
   "source": [
    "import pandas as pd\n",
    "\n",
    "# Todo: Filter the dataset_train and dataset_meta objects to find the label numbers for Bicycle and Motorcyclpes\n",
    "df_train = pd.DataFrame.from_dict(dataset_train, orient='index').T\n",
    "# df_train['labels'] = dataset_meta[b'fine_label_names']\n",
    "df_train\n"
   ]
  },
  {
   "cell_type": "code",
   "execution_count": 39,
   "metadata": {
    "tags": []
   },
   "outputs": [
    {
     "data": {
      "text/html": [
       "<div>\n",
       "<style scoped>\n",
       "    .dataframe tbody tr th:only-of-type {\n",
       "        vertical-align: middle;\n",
       "    }\n",
       "\n",
       "    .dataframe tbody tr th {\n",
       "        vertical-align: top;\n",
       "    }\n",
       "\n",
       "    .dataframe thead th {\n",
       "        text-align: right;\n",
       "    }\n",
       "</style>\n",
       "<table border=\"1\" class=\"dataframe\">\n",
       "  <thead>\n",
       "    <tr style=\"text-align: right;\">\n",
       "      <th></th>\n",
       "      <th>b'filenames'</th>\n",
       "      <th>b'batch_label'</th>\n",
       "      <th>b'fine_labels'</th>\n",
       "      <th>b'coarse_labels'</th>\n",
       "      <th>b'data'</th>\n",
       "      <th>mapped_labels</th>\n",
       "    </tr>\n",
       "  </thead>\n",
       "  <tbody>\n",
       "    <tr>\n",
       "      <th>0</th>\n",
       "      <td>b'bos_taurus_s_000507.png'</td>\n",
       "      <td>116</td>\n",
       "      <td>19</td>\n",
       "      <td>11</td>\n",
       "      <td>[255, 255, 255, 255, 255, 255, 255, 255, 255, ...</td>\n",
       "      <td>b'cattle'</td>\n",
       "    </tr>\n",
       "    <tr>\n",
       "      <th>1</th>\n",
       "      <td>b'stegosaurus_s_000125.png'</td>\n",
       "      <td>114</td>\n",
       "      <td>29</td>\n",
       "      <td>15</td>\n",
       "      <td>[255, 253, 253, 253, 253, 253, 253, 253, 253, ...</td>\n",
       "      <td>b'dinosaur'</td>\n",
       "    </tr>\n",
       "    <tr>\n",
       "      <th>2</th>\n",
       "      <td>b'mcintosh_s_000643.png'</td>\n",
       "      <td>97</td>\n",
       "      <td>0</td>\n",
       "      <td>4</td>\n",
       "      <td>[250, 248, 247, 248, 249, 249, 248, 248, 247, ...</td>\n",
       "      <td>b'apple'</td>\n",
       "    </tr>\n",
       "    <tr>\n",
       "      <th>3</th>\n",
       "      <td>b'altar_boy_s_001435.png'</td>\n",
       "      <td>105</td>\n",
       "      <td>11</td>\n",
       "      <td>14</td>\n",
       "      <td>[124, 131, 135, 138, 140, 144, 148, 152, 156, ...</td>\n",
       "      <td>b'boy'</td>\n",
       "    </tr>\n",
       "    <tr>\n",
       "      <th>4</th>\n",
       "      <td>b'cichlid_s_000031.png'</td>\n",
       "      <td>110</td>\n",
       "      <td>1</td>\n",
       "      <td>1</td>\n",
       "      <td>[43, 32, 87, 127, 55, 48, 51, 87, 121, 113, 13...</td>\n",
       "      <td>b'aquarium_fish'</td>\n",
       "    </tr>\n",
       "    <tr>\n",
       "      <th>...</th>\n",
       "      <td>...</td>\n",
       "      <td>...</td>\n",
       "      <td>...</td>\n",
       "      <td>...</td>\n",
       "      <td>...</td>\n",
       "      <td>...</td>\n",
       "    </tr>\n",
       "    <tr>\n",
       "      <th>49995</th>\n",
       "      <td>b'tree_squirrel_s_000969.png'</td>\n",
       "      <td>None</td>\n",
       "      <td>80</td>\n",
       "      <td>16</td>\n",
       "      <td>[130, 127, 131, 142, 127, 117, 138, 154, 156, ...</td>\n",
       "      <td>b'squirrel'</td>\n",
       "    </tr>\n",
       "    <tr>\n",
       "      <th>49996</th>\n",
       "      <td>b'tiger_beetle_s_000315.png'</td>\n",
       "      <td>None</td>\n",
       "      <td>7</td>\n",
       "      <td>7</td>\n",
       "      <td>[167, 199, 193, 192, 195, 203, 188, 210, 200, ...</td>\n",
       "      <td>b'beetle'</td>\n",
       "    </tr>\n",
       "    <tr>\n",
       "      <th>49997</th>\n",
       "      <td>b'bear_s_000631.png'</td>\n",
       "      <td>None</td>\n",
       "      <td>3</td>\n",
       "      <td>8</td>\n",
       "      <td>[248, 240, 236, 234, 237, 236, 237, 238, 235, ...</td>\n",
       "      <td>b'bear'</td>\n",
       "    </tr>\n",
       "    <tr>\n",
       "      <th>49998</th>\n",
       "      <td>b'beetle_s_000411.png'</td>\n",
       "      <td>None</td>\n",
       "      <td>7</td>\n",
       "      <td>7</td>\n",
       "      <td>[156, 151, 151, 151, 154, 154, 151, 151, 155, ...</td>\n",
       "      <td>b'beetle'</td>\n",
       "    </tr>\n",
       "    <tr>\n",
       "      <th>49999</th>\n",
       "      <td>b'mako_s_001274.png'</td>\n",
       "      <td>None</td>\n",
       "      <td>73</td>\n",
       "      <td>1</td>\n",
       "      <td>[31, 30, 31, 32, 31, 31, 32, 31, 30, 30, 31, 3...</td>\n",
       "      <td>b'shark'</td>\n",
       "    </tr>\n",
       "  </tbody>\n",
       "</table>\n",
       "<p>50000 rows × 6 columns</p>\n",
       "</div>"
      ],
      "text/plain": [
       "                        b'filenames' b'batch_label' b'fine_labels'  \\\n",
       "0         b'bos_taurus_s_000507.png'            116             19   \n",
       "1        b'stegosaurus_s_000125.png'            114             29   \n",
       "2           b'mcintosh_s_000643.png'             97              0   \n",
       "3          b'altar_boy_s_001435.png'            105             11   \n",
       "4            b'cichlid_s_000031.png'            110              1   \n",
       "...                              ...            ...            ...   \n",
       "49995  b'tree_squirrel_s_000969.png'           None             80   \n",
       "49996   b'tiger_beetle_s_000315.png'           None              7   \n",
       "49997           b'bear_s_000631.png'           None              3   \n",
       "49998         b'beetle_s_000411.png'           None              7   \n",
       "49999           b'mako_s_001274.png'           None             73   \n",
       "\n",
       "      b'coarse_labels'                                            b'data'  \\\n",
       "0                   11  [255, 255, 255, 255, 255, 255, 255, 255, 255, ...   \n",
       "1                   15  [255, 253, 253, 253, 253, 253, 253, 253, 253, ...   \n",
       "2                    4  [250, 248, 247, 248, 249, 249, 248, 248, 247, ...   \n",
       "3                   14  [124, 131, 135, 138, 140, 144, 148, 152, 156, ...   \n",
       "4                    1  [43, 32, 87, 127, 55, 48, 51, 87, 121, 113, 13...   \n",
       "...                ...                                                ...   \n",
       "49995               16  [130, 127, 131, 142, 127, 117, 138, 154, 156, ...   \n",
       "49996                7  [167, 199, 193, 192, 195, 203, 188, 210, 200, ...   \n",
       "49997                8  [248, 240, 236, 234, 237, 236, 237, 238, 235, ...   \n",
       "49998                7  [156, 151, 151, 151, 154, 154, 151, 151, 155, ...   \n",
       "49999                1  [31, 30, 31, 32, 31, 31, 32, 31, 30, 30, 31, 3...   \n",
       "\n",
       "          mapped_labels  \n",
       "0             b'cattle'  \n",
       "1           b'dinosaur'  \n",
       "2              b'apple'  \n",
       "3                b'boy'  \n",
       "4      b'aquarium_fish'  \n",
       "...                 ...  \n",
       "49995       b'squirrel'  \n",
       "49996         b'beetle'  \n",
       "49997           b'bear'  \n",
       "49998         b'beetle'  \n",
       "49999          b'shark'  \n",
       "\n",
       "[50000 rows x 6 columns]"
      ]
     },
     "execution_count": 39,
     "metadata": {},
     "output_type": "execute_result"
    }
   ],
   "source": [
    "def map_labels(x):\n",
    "    no = x[b'fine_labels']\n",
    "    return dataset_meta[b'fine_label_names'][no]\n",
    "df_train['mapped_labels'] = df_train.apply(map_labels, axis=1)\n",
    "df_train"
   ]
  },
  {
   "cell_type": "code",
   "execution_count": 68,
   "metadata": {
    "tags": []
   },
   "outputs": [
    {
     "data": {
      "text/plain": [
       "array([[ True,  True,  True, ...,  True,  True,  True],\n",
       "       [ True,  True,  True, ...,  True,  True,  True],\n",
       "       [ True,  True,  True, ...,  True,  True,  True],\n",
       "       ...,\n",
       "       [ True,  True,  True, ...,  True,  True,  True],\n",
       "       [ True,  True,  True, ...,  True,  True,  True],\n",
       "       [ True,  True,  True, ...,  True,  True,  True]])"
      ]
     },
     "execution_count": 68,
     "metadata": {},
     "output_type": "execute_result"
    }
   ],
   "source": [
    "# df_train_subset = df_train[(df_train.mapped_labels == b'motorcycle') | (df_train.mapped_labels == b'bicycle')]\n",
    "dataset_train[b'data'] == list(dataset_train[b'data'])"
   ]
  },
  {
   "cell_type": "markdown",
   "metadata": {},
   "source": [
    "Good job! We only need objects with label 8 and 48 -- this drastically simplifies our handling of the data! Below we construct a dataframe for you, and you can safely drop the rows that don't contain observations about bicycles and motorcycles. Fill in the missing lines below to drop all other rows:"
   ]
  },
  {
   "cell_type": "code",
   "execution_count": 69,
   "metadata": {
    "tags": []
   },
   "outputs": [],
   "source": [
    "#Construct the dataframe\n",
    "df_train = pd.DataFrame({\n",
    "    \"filenames\": dataset_train[b'filenames'],\n",
    "    \"labels\": dataset_train[b'fine_labels'],\n",
    "    \"data\": list(dataset_train[b'data']),\n",
    "    \"row\": range(len(dataset_train[b'filenames']))\n",
    "})\n",
    "\n",
    "# Drop all rows from df_train where label is not 8 or 48\n",
    "df_train = df_train[(df_train.labels == 8) | (df_train.labels == 48)]\n",
    "\n",
    "# Decode df_train.filenames so they are regular strings\n",
    "df_train[\"filenames\"] = df_train[\"filenames\"].apply(\n",
    "    lambda x: x.decode(\"utf-8\")\n",
    ")\n",
    "\n",
    "\n",
    "df_test = pd.DataFrame({\n",
    "    \"filenames\": dataset_test[b'filenames'],\n",
    "    \"labels\": dataset_test[b'fine_labels'],\n",
    "    \"data\": list(dataset_test[b'data']),\n",
    "    \"row\": range(len(dataset_test[b'filenames']))\n",
    "})\n",
    "\n",
    "# Drop all rows from df_test where label is not 8 or 48\n",
    "df_test = df_test[(df_test.labels == 8) | (df_test.labels == 48)]\n",
    "\n",
    "# Decode df_test.filenames so they are regular strings\n",
    "df_test[\"filenames\"] = df_test[\"filenames\"].apply(\n",
    "    lambda x: x.decode(\"utf-8\")\n",
    ")"
   ]
  },
  {
   "cell_type": "code",
   "execution_count": 70,
   "metadata": {
    "tags": []
   },
   "outputs": [
    {
     "data": {
      "text/html": [
       "<div>\n",
       "<style scoped>\n",
       "    .dataframe tbody tr th:only-of-type {\n",
       "        vertical-align: middle;\n",
       "    }\n",
       "\n",
       "    .dataframe tbody tr th {\n",
       "        vertical-align: top;\n",
       "    }\n",
       "\n",
       "    .dataframe thead th {\n",
       "        text-align: right;\n",
       "    }\n",
       "</style>\n",
       "<table border=\"1\" class=\"dataframe\">\n",
       "  <thead>\n",
       "    <tr style=\"text-align: right;\">\n",
       "      <th></th>\n",
       "      <th>filenames</th>\n",
       "      <th>labels</th>\n",
       "      <th>data</th>\n",
       "      <th>row</th>\n",
       "    </tr>\n",
       "  </thead>\n",
       "  <tbody>\n",
       "    <tr>\n",
       "      <th>16</th>\n",
       "      <td>bike_s_000682.png</td>\n",
       "      <td>8</td>\n",
       "      <td>[35, 27, 31, 77, 136, 168, 103, 101, 85, 63, 6...</td>\n",
       "      <td>16</td>\n",
       "    </tr>\n",
       "    <tr>\n",
       "      <th>30</th>\n",
       "      <td>bike_s_000127.png</td>\n",
       "      <td>8</td>\n",
       "      <td>[88, 104, 112, 81, 40, 39, 41, 47, 87, 119, 16...</td>\n",
       "      <td>30</td>\n",
       "    </tr>\n",
       "    <tr>\n",
       "      <th>130</th>\n",
       "      <td>cycle_s_002598.png</td>\n",
       "      <td>8</td>\n",
       "      <td>[89, 88, 89, 88, 89, 90, 90, 90, 90, 90, 90, 9...</td>\n",
       "      <td>130</td>\n",
       "    </tr>\n",
       "    <tr>\n",
       "      <th>152</th>\n",
       "      <td>minibike_s_000824.png</td>\n",
       "      <td>48</td>\n",
       "      <td>[158, 160, 163, 168, 173, 177, 178, 180, 181, ...</td>\n",
       "      <td>152</td>\n",
       "    </tr>\n",
       "    <tr>\n",
       "      <th>195</th>\n",
       "      <td>motorcycle_s_001856.png</td>\n",
       "      <td>48</td>\n",
       "      <td>[255, 255, 255, 255, 255, 255, 248, 220, 201, ...</td>\n",
       "      <td>195</td>\n",
       "    </tr>\n",
       "    <tr>\n",
       "      <th>...</th>\n",
       "      <td>...</td>\n",
       "      <td>...</td>\n",
       "      <td>...</td>\n",
       "      <td>...</td>\n",
       "    </tr>\n",
       "    <tr>\n",
       "      <th>49578</th>\n",
       "      <td>velocipede_s_000010.png</td>\n",
       "      <td>8</td>\n",
       "      <td>[115, 119, 135, 138, 142, 141, 153, 137, 144, ...</td>\n",
       "      <td>49578</td>\n",
       "    </tr>\n",
       "    <tr>\n",
       "      <th>49588</th>\n",
       "      <td>motorcycle_s_001247.png</td>\n",
       "      <td>48</td>\n",
       "      <td>[138, 135, 134, 135, 137, 140, 142, 143, 142, ...</td>\n",
       "      <td>49588</td>\n",
       "    </tr>\n",
       "    <tr>\n",
       "      <th>49882</th>\n",
       "      <td>motorcycle_s_000724.png</td>\n",
       "      <td>48</td>\n",
       "      <td>[241, 214, 217, 216, 212, 223, 224, 233, 240, ...</td>\n",
       "      <td>49882</td>\n",
       "    </tr>\n",
       "    <tr>\n",
       "      <th>49962</th>\n",
       "      <td>velocipede_s_001637.png</td>\n",
       "      <td>8</td>\n",
       "      <td>[0, 0, 0, 0, 0, 0, 1, 3, 4, 4, 3, 4, 5, 2, 0, ...</td>\n",
       "      <td>49962</td>\n",
       "    </tr>\n",
       "    <tr>\n",
       "      <th>49985</th>\n",
       "      <td>motorcycle_s_000291.png</td>\n",
       "      <td>48</td>\n",
       "      <td>[75, 97, 94, 76, 70, 40, 53, 84, 70, 61, 51, 3...</td>\n",
       "      <td>49985</td>\n",
       "    </tr>\n",
       "  </tbody>\n",
       "</table>\n",
       "<p>1000 rows × 4 columns</p>\n",
       "</div>"
      ],
      "text/plain": [
       "                     filenames  labels  \\\n",
       "16           bike_s_000682.png       8   \n",
       "30           bike_s_000127.png       8   \n",
       "130         cycle_s_002598.png       8   \n",
       "152      minibike_s_000824.png      48   \n",
       "195    motorcycle_s_001856.png      48   \n",
       "...                        ...     ...   \n",
       "49578  velocipede_s_000010.png       8   \n",
       "49588  motorcycle_s_001247.png      48   \n",
       "49882  motorcycle_s_000724.png      48   \n",
       "49962  velocipede_s_001637.png       8   \n",
       "49985  motorcycle_s_000291.png      48   \n",
       "\n",
       "                                                    data    row  \n",
       "16     [35, 27, 31, 77, 136, 168, 103, 101, 85, 63, 6...     16  \n",
       "30     [88, 104, 112, 81, 40, 39, 41, 47, 87, 119, 16...     30  \n",
       "130    [89, 88, 89, 88, 89, 90, 90, 90, 90, 90, 90, 9...    130  \n",
       "152    [158, 160, 163, 168, 173, 177, 178, 180, 181, ...    152  \n",
       "195    [255, 255, 255, 255, 255, 255, 248, 220, 201, ...    195  \n",
       "...                                                  ...    ...  \n",
       "49578  [115, 119, 135, 138, 142, 141, 153, 137, 144, ...  49578  \n",
       "49588  [138, 135, 134, 135, 137, 140, 142, 143, 142, ...  49588  \n",
       "49882  [241, 214, 217, 216, 212, 223, 224, 233, 240, ...  49882  \n",
       "49962  [0, 0, 0, 0, 0, 0, 1, 3, 4, 4, 3, 4, 5, 2, 0, ...  49962  \n",
       "49985  [75, 97, 94, 76, 70, 40, 53, 84, 70, 61, 51, 3...  49985  \n",
       "\n",
       "[1000 rows x 4 columns]"
      ]
     },
     "execution_count": 70,
     "metadata": {},
     "output_type": "execute_result"
    }
   ],
   "source": [
    "df_train"
   ]
  },
  {
   "cell_type": "markdown",
   "metadata": {},
   "source": [
    "Now that the data is filtered for just our classes, we can save all our images."
   ]
  },
  {
   "cell_type": "code",
   "execution_count": 53,
   "metadata": {
    "tags": []
   },
   "outputs": [],
   "source": [
    "!mkdir ./train\n",
    "!mkdir ./test"
   ]
  },
  {
   "cell_type": "markdown",
   "metadata": {},
   "source": [
    "In the previous sections we introduced you to several key snippets of code:\n",
    "\n",
    "1. Grabbing the image data:\n",
    "\n",
    "```python\n",
    "dataset_train[b'data'][0]\n",
    "```\n",
    "\n",
    "2. A simple idiom for stacking the image data into the right shape\n",
    "\n",
    "```python\n",
    "import numpy as np\n",
    "np.dstack((\n",
    "    row[0:1024].reshape(32,32),\n",
    "    row[1024:2048].reshape(32,32),\n",
    "    row[2048:].reshape(32,32)\n",
    "))\n",
    "```\n",
    "\n",
    "3. A simple `matplotlib` utility for saving images\n",
    "\n",
    "```python\n",
    "plt.imsave(path+row['filenames'], target)\n",
    "```\n",
    "\n",
    "Compose these together into a function that saves all the images into the `./test` and `./train` directories. Use the comments in the body of the `save_images` function below to guide your construction of the function:\n"
   ]
  },
  {
   "cell_type": "code",
   "execution_count": 71,
   "metadata": {
    "tags": []
   },
   "outputs": [
    {
     "data": {
      "text/plain": [
       "27      None\n",
       "28      None\n",
       "116     None\n",
       "161     None\n",
       "319     None\n",
       "        ... \n",
       "9654    None\n",
       "9692    None\n",
       "9833    None\n",
       "9928    None\n",
       "9939    None\n",
       "Length: 200, dtype: object"
      ]
     },
     "execution_count": 71,
     "metadata": {},
     "output_type": "execute_result"
    }
   ],
   "source": [
    "def save_images(row, path):\n",
    "    #Grab the image data in row-major form\n",
    "    img = row['data']\n",
    "    \n",
    "    # Consolidated stacking/reshaping from earlier\n",
    "    target = np.dstack((\n",
    "        img[0:1024].reshape(32,32),\n",
    "        img[1024:2048].reshape(32,32),\n",
    "        img[2048:].reshape(32,32),\n",
    "    ))\n",
    "    \n",
    "    # Save the image\n",
    "    plt.imsave(path+row['filenames'], target)\n",
    "    \n",
    "    \n",
    "    # Return any signal data you want for debugging\n",
    "    return\n",
    "\n",
    "## TODO: save ALL images using the save_images function\n",
    "df_train.apply(lambda row: save_images(row, 'train/'), axis=1)\n",
    "df_test.apply(lambda row: save_images(row, 'test/'), axis=1)"
   ]
  },
  {
   "cell_type": "markdown",
   "metadata": {},
   "source": [
    "### 3. Load the data\n",
    "\n",
    "Now we can load the data into S3.\n",
    "\n",
    "Using the sagemaker SDK grab the current region, execution role, and bucket."
   ]
  },
  {
   "cell_type": "code",
   "execution_count": 102,
   "metadata": {
    "tags": []
   },
   "outputs": [
    {
     "name": "stdout",
     "output_type": "stream",
     "text": [
      "Default Bucket: sagemaker-us-east-1-398094323019\n",
      "AWS Region: us-east-1\n",
      "RoleArn: arn:aws:iam::398094323019:role/service-role/AmazonSageMaker-ExecutionRole-20230809T102452\n"
     ]
    }
   ],
   "source": [
    "import sagemaker\n",
    "\n",
    "\n",
    "bucket = sagemaker.Session().default_bucket()\n",
    "print(\"Default Bucket: {}\".format(bucket))\n",
    "\n",
    "region = boto3.Session().region_name\n",
    "print(\"AWS Region: {}\".format(region))\n",
    "\n",
    "role = sagemaker.get_execution_role()\n",
    "print(\"RoleArn: {}\".format(role))"
   ]
  },
  {
   "cell_type": "markdown",
   "metadata": {},
   "source": [
    "With this data we can easily sync your data up into S3!"
   ]
  },
  {
   "cell_type": "code",
   "execution_count": null,
   "metadata": {
    "tags": []
   },
   "outputs": [],
   "source": [
    "import os\n",
    "\n",
    "os.environ[\"DEFAULT_S3_BUCKET\"] = bucket\n",
    "!aws s3 sync ./train s3://${DEFAULT_S3_BUCKET}/train/\n",
    "!aws s3 sync ./test s3://${DEFAULT_S3_BUCKET}/test/"
   ]
  },
  {
   "cell_type": "markdown",
   "metadata": {},
   "source": [
    "And that's it! You can check the bucket and verify that the items were uploaded.\n",
    "\n",
    "## Model Training\n",
    "\n",
    "For Image Classification, Sagemaker [also expects metadata](https://docs.aws.amazon.com/sagemaker/latest/dg/image-classification.html) e.g. in the form of TSV files with labels and filepaths. We can generate these using our Pandas DataFrames from earlier:"
   ]
  },
  {
   "cell_type": "code",
   "execution_count": 104,
   "metadata": {
    "tags": []
   },
   "outputs": [],
   "source": [
    "def to_metadata_file(df, prefix):\n",
    "    df[\"s3_path\"] = df[\"filenames\"]\n",
    "    df[\"labels\"] = df[\"labels\"].apply(lambda x: 0 if x==8 else 1)\n",
    "    return df[[\"row\", \"labels\", \"s3_path\"]].to_csv(\n",
    "        f\"{prefix}.lst\", sep=\"\\t\", index=False, header=False\n",
    "    )\n",
    "    \n",
    "to_metadata_file(df_train.copy(), \"train\")\n",
    "to_metadata_file(df_test.copy(), \"test\")"
   ]
  },
  {
   "cell_type": "markdown",
   "metadata": {},
   "source": [
    "We can also upload our manifest files:"
   ]
  },
  {
   "cell_type": "code",
   "execution_count": 105,
   "metadata": {
    "tags": []
   },
   "outputs": [],
   "source": [
    "import boto3\n",
    "\n",
    "# Upload files\n",
    "boto3.Session().resource('s3').Bucket(\n",
    "    bucket).Object('train.lst').upload_file('./train.lst')\n",
    "boto3.Session().resource('s3').Bucket(\n",
    "    bucket).Object('test.lst').upload_file('./test.lst')"
   ]
  },
  {
   "cell_type": "markdown",
   "metadata": {},
   "source": [
    "Using the `bucket` and `region` info we can get the latest prebuilt container to run our training job, and define an output location on our s3 bucket for the model. Use the `image_uris` function from the SageMaker SDK to retrieve the latest `image-classification` image below:"
   ]
  },
  {
   "cell_type": "code",
   "execution_count": 106,
   "metadata": {
    "tags": []
   },
   "outputs": [
    {
     "name": "stderr",
     "output_type": "stream",
     "text": [
      "INFO:sagemaker.image_uris:Same images used for training and inference. Defaulting to image scope: inference.\n",
      "INFO:sagemaker.image_uris:Defaulting to the only supported framework/algorithm version: 1.\n",
      "INFO:sagemaker.image_uris:Ignoring unnecessary instance type: None.\n"
     ]
    }
   ],
   "source": [
    "# Use the image_uris function to retrieve the latest 'image-classification' image \n",
    "algo_image = sagemaker.image_uris.retrieve(\"image-classification\", boto3.Session().region_name)\n",
    "s3_output_location = f\"s3://{bucket}/models/image_model\""
   ]
  },
  {
   "cell_type": "markdown",
   "metadata": {},
   "source": [
    "We're ready to create an estimator! Create an estimator `img_classifier_model` that uses one instance of `ml.p3.2xlarge`. Ensure that y ou use the output location we defined above - we'll be referring to that later!"
   ]
  },
  {
   "cell_type": "code",
   "execution_count": 107,
   "metadata": {
    "tags": []
   },
   "outputs": [],
   "source": [
    "img_classifier_model=sagemaker.estimator.Estimator(\n",
    "    algo_image, # the image of the training container\n",
    "    role, # The IAM role to use\n",
    "    instance_count=1,\n",
    "    instance_type= 'ml.p3.2xlarge', # the type of instance to use for training\n",
    "    output_path = s3_output_location # where to save the output the model artifacts\n",
    ")"
   ]
  },
  {
   "cell_type": "markdown",
   "metadata": {},
   "source": [
    "We can also set a few key hyperparameters and define the inputs for our model:"
   ]
  },
  {
   "cell_type": "code",
   "execution_count": 120,
   "metadata": {
    "tags": []
   },
   "outputs": [],
   "source": [
    "img_classifier_model.set_hyperparameters(\n",
    "    image_shape=\"3,32,32\",  # Channels, Height, Width\n",
    "    num_classes=2, # TODO: Fill in\n",
    "    num_training_samples=1000 # TODO: fill in\n",
    ")"
   ]
  },
  {
   "cell_type": "markdown",
   "metadata": {},
   "source": [
    "The `image-classification` image uses four input channels with very specific input parameters. For convenience, we've provided them below:"
   ]
  },
  {
   "cell_type": "code",
   "execution_count": 121,
   "metadata": {
    "tags": []
   },
   "outputs": [],
   "source": [
    "from sagemaker.debugger import Rule, rule_configs\n",
    "from sagemaker.session import TrainingInput\n",
    "model_inputs = {\n",
    "        \"train\": sagemaker.inputs.TrainingInput(\n",
    "            s3_data=f\"s3://{bucket}/train/\",\n",
    "            content_type=\"application/x-image\"\n",
    "        ),\n",
    "        \"validation\": sagemaker.inputs.TrainingInput(\n",
    "            s3_data=f\"s3://{bucket}/test/\",\n",
    "            content_type=\"application/x-image\"\n",
    "        ),\n",
    "        \"train_lst\": sagemaker.inputs.TrainingInput(\n",
    "            s3_data=f\"s3://{bucket}/train.lst\",\n",
    "            content_type=\"application/x-image\"\n",
    "        ),\n",
    "        \"validation_lst\": sagemaker.inputs.TrainingInput(\n",
    "            s3_data=f\"s3://{bucket}/test.lst\",\n",
    "            content_type=\"application/x-image\"\n",
    "        )\n",
    "}"
   ]
  },
  {
   "cell_type": "markdown",
   "metadata": {},
   "source": [
    "Great, now we can train the model using the model_inputs. In the cell below, call the `fit` method on our model,:"
   ]
  },
  {
   "cell_type": "code",
   "execution_count": 122,
   "metadata": {
    "tags": []
   },
   "outputs": [
    {
     "name": "stderr",
     "output_type": "stream",
     "text": [
      "INFO:sagemaker:Creating training-job with name: image-classification-2023-08-10-08-04-20-859\n"
     ]
    },
    {
     "name": "stdout",
     "output_type": "stream",
     "text": [
      "2023-08-10 08:04:21 Starting - Starting the training job......\n",
      "2023-08-10 08:04:59 Starting - Preparing the instances for training.........\n",
      "2023-08-10 08:06:49 Downloading - Downloading input data\n",
      "2023-08-10 08:06:49 Training - Downloading the training image.....................\n",
      "2023-08-10 08:10:00 Training - Training image download completed. Training in progress...\u001b[34mDocker entrypoint called with argument(s): train\u001b[0m\n",
      "\u001b[34mRunning default environment configuration script\u001b[0m\n",
      "\u001b[34mNvidia gpu devices, drivers and cuda toolkit versions (only available on hosts with GPU):\u001b[0m\n",
      "\u001b[34mThu Aug 10 08:10:24 2023       \u001b[0m\n",
      "\u001b[34m+---------------------------------------------------------------------------------------+\u001b[0m\n",
      "\u001b[34m| NVIDIA-SMI 535.54.03              Driver Version: 535.54.03    CUDA Version: 12.2     |\u001b[0m\n",
      "\u001b[34m|-----------------------------------------+----------------------+----------------------+\u001b[0m\n",
      "\u001b[34m| GPU  Name                 Persistence-M | Bus-Id        Disp.A | Volatile Uncorr. ECC |\u001b[0m\n",
      "\u001b[34m| Fan  Temp   Perf          Pwr:Usage/Cap |         Memory-Usage | GPU-Util  Compute M. |\u001b[0m\n",
      "\u001b[34m|                                         |                      |               MIG M. |\u001b[0m\n",
      "\u001b[34m|=========================================+======================+======================|\u001b[0m\n",
      "\u001b[34m|   0  Tesla V100-SXM2-16GB           On  | 00000000:00:1E.0 Off |                    0 |\u001b[0m\n",
      "\u001b[34m| N/A   35C    P0              23W / 300W |      0MiB / 16384MiB |      0%      Default |\u001b[0m\n",
      "\u001b[34m|                                         |                      |                  N/A |\u001b[0m\n",
      "\u001b[34m+-----------------------------------------+----------------------+----------------------+\n",
      "                                                                                         \u001b[0m\n",
      "\u001b[34m+---------------------------------------------------------------------------------------+\u001b[0m\n",
      "\u001b[34m| Processes:                                                                            |\u001b[0m\n",
      "\u001b[34m|  GPU   GI   CI        PID   Type   Process name                            GPU Memory |\u001b[0m\n",
      "\u001b[34m|        ID   ID                                                             Usage      |\u001b[0m\n",
      "\u001b[34m|=======================================================================================|\u001b[0m\n",
      "\u001b[34m|  No running processes found                                                           |\u001b[0m\n",
      "\u001b[34m+---------------------------------------------------------------------------------------+\u001b[0m\n",
      "\u001b[34mChecking for nvidia driver and cuda compatibility.\u001b[0m\n",
      "\u001b[34mCUDA Compatibility driver provided.\u001b[0m\n",
      "\u001b[34mProceeding with compatibility check between driver, cuda-toolkit and cuda-compat.\u001b[0m\n",
      "\u001b[34mDetected cuda-toolkit version: 11.1.\u001b[0m\n",
      "\u001b[34mDetected cuda-compat version: 455.32.00.\u001b[0m\n",
      "\u001b[34mDetected Nvidia driver version: 535.54.03.\u001b[0m\n",
      "\u001b[34mNvidia driver compatible with cuda-toolkit. Disabling cuda-compat.\u001b[0m\n",
      "\u001b[34m[08/10/2023 08:10:28 INFO 139644852074304] Reading default configuration from /opt/amazon/lib/python3.7/site-packages/image_classification/default-input.json: {'use_pretrained_model': 0, 'num_layers': 152, 'epochs': 30, 'learning_rate': 0.1, 'lr_scheduler_factor': 0.1, 'optimizer': 'sgd', 'momentum': 0, 'weight_decay': 0.0001, 'beta_1': 0.9, 'beta_2': 0.999, 'eps': 1e-08, 'gamma': 0.9, 'mini_batch_size': 32, 'image_shape': '3,224,224', 'precision_dtype': 'float32'}\u001b[0m\n",
      "\u001b[34m[08/10/2023 08:10:28 INFO 139644852074304] Merging with provided configuration from /opt/ml/input/config/hyperparameters.json: {'image_shape': '3,32,32', 'num_classes': '2', 'num_training_samples': '1000'}\u001b[0m\n",
      "\u001b[34m[08/10/2023 08:10:28 INFO 139644852074304] Final configuration: {'use_pretrained_model': 0, 'num_layers': 152, 'epochs': 30, 'learning_rate': 0.1, 'lr_scheduler_factor': 0.1, 'optimizer': 'sgd', 'momentum': 0, 'weight_decay': 0.0001, 'beta_1': 0.9, 'beta_2': 0.999, 'eps': 1e-08, 'gamma': 0.9, 'mini_batch_size': 32, 'image_shape': '3,32,32', 'precision_dtype': 'float32', 'num_classes': '2', 'num_training_samples': '1000'}\u001b[0m\n",
      "\u001b[34m[08/10/2023 08:10:28 INFO 139644852074304] Searching for .lst files in /opt/ml/input/data/train_lst.\u001b[0m\n",
      "\u001b[34m[08/10/2023 08:10:28 INFO 139644852074304] Creating record files for train.lst\u001b[0m\n",
      "\u001b[34m[08/10/2023 08:10:28 INFO 139644852074304] Done creating record files...\u001b[0m\n",
      "\u001b[34m[08/10/2023 08:10:28 INFO 139644852074304] Searching for .lst files in /opt/ml/input/data/validation_lst.\u001b[0m\n",
      "\u001b[34m[08/10/2023 08:10:28 INFO 139644852074304] Creating record files for test.lst\u001b[0m\n",
      "\u001b[34m[08/10/2023 08:10:28 INFO 139644852074304] Done creating record files...\u001b[0m\n",
      "\u001b[34m[08/10/2023 08:10:28 INFO 139644852074304] use_pretrained_model: 0\u001b[0m\n",
      "\u001b[34m[08/10/2023 08:10:28 INFO 139644852074304] multi_label: 0\u001b[0m\n",
      "\u001b[34m[08/10/2023 08:10:28 INFO 139644852074304] Performing random weight initialization\u001b[0m\n",
      "\u001b[34m[08/10/2023 08:10:28 INFO 139644852074304] ---- Parameters ----\u001b[0m\n",
      "\u001b[34m[08/10/2023 08:10:28 INFO 139644852074304] num_layers: 152\u001b[0m\n",
      "\u001b[34m[08/10/2023 08:10:28 INFO 139644852074304] data type: <class 'numpy.float32'>\u001b[0m\n",
      "\u001b[34m[08/10/2023 08:10:28 INFO 139644852074304] epochs: 30\u001b[0m\n",
      "\u001b[34m[08/10/2023 08:10:28 INFO 139644852074304] optimizer: sgd\u001b[0m\n",
      "\u001b[34m[08/10/2023 08:10:28 INFO 139644852074304] momentum: 0.9\u001b[0m\n",
      "\u001b[34m[08/10/2023 08:10:28 INFO 139644852074304] weight_decay: 0.0001\u001b[0m\n",
      "\u001b[34m[08/10/2023 08:10:28 INFO 139644852074304] learning_rate: 0.1\u001b[0m\n",
      "\u001b[34m[08/10/2023 08:10:28 INFO 139644852074304] num_training_samples: 1000\u001b[0m\n",
      "\u001b[34m[08/10/2023 08:10:28 INFO 139644852074304] mini_batch_size: 32\u001b[0m\n",
      "\u001b[34m[08/10/2023 08:10:28 INFO 139644852074304] image_shape: 3,32,32\u001b[0m\n",
      "\u001b[34m[08/10/2023 08:10:28 INFO 139644852074304] num_classes: 2\u001b[0m\n",
      "\u001b[34m[08/10/2023 08:10:28 INFO 139644852074304] augmentation_type: None\u001b[0m\n",
      "\u001b[34m[08/10/2023 08:10:28 INFO 139644852074304] kv_store: device\u001b[0m\n",
      "\u001b[34m[08/10/2023 08:10:28 INFO 139644852074304] checkpoint_frequency not set, will store the best model\u001b[0m\n",
      "\u001b[34m[08/10/2023 08:10:28 INFO 139644852074304] --------------------\u001b[0m\n",
      "\u001b[34m[08/10/2023 08:10:28 INFO 139644852074304] Setting number of threads: 7\u001b[0m\n",
      "\u001b[34m[08:10:32] /opt/brazil-pkg-cache/packages/AIAlgorithmsMXNet/AIAlgorithmsMXNet-1.4.x_ecl_Cuda_11.1.x.212.0/AL2_x86_64/generic-flavor/src/src/operator/nn/./cudnn/./cudnn_algoreg-inl.h:97: Running performance tests to find the best convolution algorithm, this can take a while... (setting env variable MXNET_CUDNN_AUTOTUNE_DEFAULT to 0 to disable)\u001b[0m\n",
      "\u001b[34m[08/10/2023 08:10:37 INFO 139644852074304] Epoch[0] Batch [20]#011Speed: 118.596 samples/sec#011accuracy=0.549107\u001b[0m\n",
      "\u001b[34m[08/10/2023 08:10:39 INFO 139644852074304] Epoch[0] Train-accuracy=0.586694\u001b[0m\n",
      "\u001b[34m[08/10/2023 08:10:39 INFO 139644852074304] Epoch[0] Time cost=7.087\u001b[0m\n",
      "\u001b[34m[08/10/2023 08:10:39 INFO 139644852074304] Epoch[0] Validation-accuracy=0.494792\u001b[0m\n",
      "\u001b[34m[08/10/2023 08:10:40 INFO 139644852074304] Storing the best model with validation accuracy: 0.494792\u001b[0m\n",
      "\u001b[34m[08/10/2023 08:10:40 INFO 139644852074304] Saved checkpoint to \"/opt/ml/model/image-classification-0001.params\"\u001b[0m\n",
      "\u001b[34m[08/10/2023 08:10:44 INFO 139644852074304] Epoch[1] Batch [20]#011Speed: 181.048 samples/sec#011accuracy=0.732143\u001b[0m\n",
      "\u001b[34m[08/10/2023 08:10:45 INFO 139644852074304] Epoch[1] Train-accuracy=0.718750\u001b[0m\n",
      "\u001b[34m[08/10/2023 08:10:45 INFO 139644852074304] Epoch[1] Time cost=5.240\u001b[0m\n",
      "\u001b[34m[08/10/2023 08:10:46 INFO 139644852074304] Epoch[1] Validation-accuracy=0.500000\u001b[0m\n",
      "\u001b[34m[08/10/2023 08:10:46 INFO 139644852074304] Storing the best model with validation accuracy: 0.500000\u001b[0m\n",
      "\u001b[34m[08/10/2023 08:10:46 INFO 139644852074304] Saved checkpoint to \"/opt/ml/model/image-classification-0002.params\"\u001b[0m\n",
      "\u001b[34m[08/10/2023 08:10:50 INFO 139644852074304] Epoch[2] Batch [20]#011Speed: 181.773 samples/sec#011accuracy=0.694940\u001b[0m\n",
      "\u001b[34m[08/10/2023 08:10:52 INFO 139644852074304] Epoch[2] Train-accuracy=0.695565\u001b[0m\n",
      "\u001b[34m[08/10/2023 08:10:52 INFO 139644852074304] Epoch[2] Time cost=5.234\u001b[0m\n",
      "\u001b[34m[08/10/2023 08:10:52 INFO 139644852074304] Epoch[2] Validation-accuracy=0.755208\u001b[0m\n",
      "\u001b[34m[08/10/2023 08:10:53 INFO 139644852074304] Storing the best model with validation accuracy: 0.755208\u001b[0m\n",
      "\u001b[34m[08/10/2023 08:10:53 INFO 139644852074304] Saved checkpoint to \"/opt/ml/model/image-classification-0003.params\"\u001b[0m\n",
      "\u001b[34m[08/10/2023 08:10:56 INFO 139644852074304] Epoch[3] Batch [20]#011Speed: 184.571 samples/sec#011accuracy=0.705357\u001b[0m\n",
      "\u001b[34m[08/10/2023 08:10:58 INFO 139644852074304] Epoch[3] Train-accuracy=0.730847\u001b[0m\n",
      "\u001b[34m[08/10/2023 08:10:58 INFO 139644852074304] Epoch[3] Time cost=5.176\u001b[0m\n",
      "\u001b[34m[08/10/2023 08:10:59 INFO 139644852074304] Epoch[3] Validation-accuracy=0.790179\u001b[0m\n",
      "\u001b[34m[08/10/2023 08:10:59 INFO 139644852074304] Storing the best model with validation accuracy: 0.790179\u001b[0m\n",
      "\u001b[34m[08/10/2023 08:10:59 INFO 139644852074304] Saved checkpoint to \"/opt/ml/model/image-classification-0004.params\"\u001b[0m\n",
      "\u001b[34m[08/10/2023 08:11:03 INFO 139644852074304] Epoch[4] Batch [20]#011Speed: 179.512 samples/sec#011accuracy=0.794643\u001b[0m\n",
      "\u001b[34m[08/10/2023 08:11:05 INFO 139644852074304] Epoch[4] Train-accuracy=0.786290\u001b[0m\n",
      "\u001b[34m[08/10/2023 08:11:05 INFO 139644852074304] Epoch[4] Time cost=5.248\u001b[0m\n",
      "\u001b[34m[08/10/2023 08:11:05 INFO 139644852074304] Epoch[4] Validation-accuracy=0.807292\u001b[0m\n",
      "\u001b[34m[08/10/2023 08:11:05 INFO 139644852074304] Storing the best model with validation accuracy: 0.807292\u001b[0m\n",
      "\u001b[34m[08/10/2023 08:11:06 INFO 139644852074304] Saved checkpoint to \"/opt/ml/model/image-classification-0005.params\"\u001b[0m\n",
      "\u001b[34m[08/10/2023 08:11:09 INFO 139644852074304] Epoch[5] Batch [20]#011Speed: 184.021 samples/sec#011accuracy=0.822917\u001b[0m\n",
      "\u001b[34m[08/10/2023 08:11:11 INFO 139644852074304] Epoch[5] Train-accuracy=0.800403\u001b[0m\n",
      "\u001b[34m[08/10/2023 08:11:11 INFO 139644852074304] Epoch[5] Time cost=5.178\u001b[0m\n",
      "\u001b[34m[08/10/2023 08:11:11 INFO 139644852074304] Epoch[5] Validation-accuracy=0.791667\u001b[0m\n",
      "\u001b[34m[08/10/2023 08:11:15 INFO 139644852074304] Epoch[6] Batch [20]#011Speed: 185.956 samples/sec#011accuracy=0.834821\u001b[0m\n",
      "\u001b[34m[08/10/2023 08:11:17 INFO 139644852074304] Epoch[6] Train-accuracy=0.837702\u001b[0m\n",
      "\u001b[34m[08/10/2023 08:11:17 INFO 139644852074304] Epoch[6] Time cost=5.154\u001b[0m\n",
      "\u001b[34m[08/10/2023 08:11:18 INFO 139644852074304] Epoch[6] Validation-accuracy=0.843750\u001b[0m\n",
      "\u001b[34m[08/10/2023 08:11:18 INFO 139644852074304] Storing the best model with validation accuracy: 0.843750\u001b[0m\n",
      "\u001b[34m[08/10/2023 08:11:18 INFO 139644852074304] Saved checkpoint to \"/opt/ml/model/image-classification-0007.params\"\u001b[0m\n",
      "\u001b[34m[08/10/2023 08:11:22 INFO 139644852074304] Epoch[7] Batch [20]#011Speed: 184.533 samples/sec#011accuracy=0.830357\u001b[0m\n",
      "\u001b[34m[08/10/2023 08:11:23 INFO 139644852074304] Epoch[7] Train-accuracy=0.833669\u001b[0m\n",
      "\u001b[34m[08/10/2023 08:11:23 INFO 139644852074304] Epoch[7] Time cost=5.177\u001b[0m\n",
      "\u001b[34m[08/10/2023 08:11:24 INFO 139644852074304] Epoch[7] Validation-accuracy=0.799107\u001b[0m\n",
      "\u001b[34m[08/10/2023 08:11:28 INFO 139644852074304] Epoch[8] Batch [20]#011Speed: 182.623 samples/sec#011accuracy=0.861607\u001b[0m\n",
      "\u001b[34m[08/10/2023 08:11:30 INFO 139644852074304] Epoch[8] Train-accuracy=0.850806\u001b[0m\n",
      "\u001b[34m[08/10/2023 08:11:30 INFO 139644852074304] Epoch[8] Time cost=5.222\u001b[0m\n",
      "\u001b[34m[08/10/2023 08:11:30 INFO 139644852074304] Epoch[8] Validation-accuracy=0.833333\u001b[0m\n",
      "\u001b[34m[08/10/2023 08:11:34 INFO 139644852074304] Epoch[9] Batch [20]#011Speed: 182.484 samples/sec#011accuracy=0.857143\u001b[0m\n",
      "\u001b[34m[08/10/2023 08:11:36 INFO 139644852074304] Epoch[9] Train-accuracy=0.859879\u001b[0m\n",
      "\u001b[34m[08/10/2023 08:11:36 INFO 139644852074304] Epoch[9] Time cost=5.221\u001b[0m\n",
      "\u001b[34m[08/10/2023 08:11:36 INFO 139644852074304] Epoch[9] Validation-accuracy=0.812500\u001b[0m\n",
      "\u001b[34m[08/10/2023 08:11:40 INFO 139644852074304] Epoch[10] Batch [20]#011Speed: 185.383 samples/sec#011accuracy=0.875000\u001b[0m\n",
      "\u001b[34m[08/10/2023 08:11:42 INFO 139644852074304] Epoch[10] Train-accuracy=0.877016\u001b[0m\n",
      "\u001b[34m[08/10/2023 08:11:42 INFO 139644852074304] Epoch[10] Time cost=5.161\u001b[0m\n",
      "\u001b[34m[08/10/2023 08:11:43 INFO 139644852074304] Epoch[10] Validation-accuracy=0.765625\u001b[0m\n",
      "\u001b[34m[08/10/2023 08:11:47 INFO 139644852074304] Epoch[11] Batch [20]#011Speed: 184.808 samples/sec#011accuracy=0.863095\u001b[0m\n",
      "\u001b[34m[08/10/2023 08:11:48 INFO 139644852074304] Epoch[11] Train-accuracy=0.864919\u001b[0m\n",
      "\u001b[34m[08/10/2023 08:11:48 INFO 139644852074304] Epoch[11] Time cost=5.150\u001b[0m\n",
      "\u001b[34m[08/10/2023 08:11:49 INFO 139644852074304] Epoch[11] Validation-accuracy=0.834821\u001b[0m\n",
      "\u001b[34m[08/10/2023 08:11:53 INFO 139644852074304] Epoch[12] Batch [20]#011Speed: 183.803 samples/sec#011accuracy=0.906250\u001b[0m\n",
      "\u001b[34m[08/10/2023 08:11:54 INFO 139644852074304] Epoch[12] Train-accuracy=0.899194\u001b[0m\n",
      "\u001b[34m[08/10/2023 08:11:54 INFO 139644852074304] Epoch[12] Time cost=5.170\u001b[0m\n",
      "\u001b[34m[08/10/2023 08:11:55 INFO 139644852074304] Epoch[12] Validation-accuracy=0.843750\u001b[0m\n",
      "\u001b[34m[08/10/2023 08:11:59 INFO 139644852074304] Epoch[13] Batch [20]#011Speed: 184.199 samples/sec#011accuracy=0.903274\u001b[0m\n",
      "\u001b[34m[08/10/2023 08:12:01 INFO 139644852074304] Epoch[13] Train-accuracy=0.913306\u001b[0m\n",
      "\u001b[34m[08/10/2023 08:12:01 INFO 139644852074304] Epoch[13] Time cost=5.170\u001b[0m\n",
      "\u001b[34m[08/10/2023 08:12:01 INFO 139644852074304] Epoch[13] Validation-accuracy=0.854167\u001b[0m\n",
      "\u001b[34m[08/10/2023 08:12:02 INFO 139644852074304] Storing the best model with validation accuracy: 0.854167\u001b[0m\n",
      "\u001b[34m[08/10/2023 08:12:02 INFO 139644852074304] Saved checkpoint to \"/opt/ml/model/image-classification-0014.params\"\u001b[0m\n",
      "\u001b[34m[08/10/2023 08:12:05 INFO 139644852074304] Epoch[14] Batch [20]#011Speed: 181.125 samples/sec#011accuracy=0.913690\u001b[0m\n",
      "\u001b[34m[08/10/2023 08:12:07 INFO 139644852074304] Epoch[14] Train-accuracy=0.912298\u001b[0m\n",
      "\u001b[34m[08/10/2023 08:12:07 INFO 139644852074304] Epoch[14] Time cost=5.233\u001b[0m\n",
      "\u001b[34m[08/10/2023 08:12:08 INFO 139644852074304] Epoch[14] Validation-accuracy=0.817708\u001b[0m\n",
      "\u001b[34m[08/10/2023 08:12:12 INFO 139644852074304] Epoch[15] Batch [20]#011Speed: 185.626 samples/sec#011accuracy=0.925595\u001b[0m\n",
      "\u001b[34m[08/10/2023 08:12:13 INFO 139644852074304] Epoch[15] Train-accuracy=0.915323\u001b[0m\n",
      "\u001b[34m[08/10/2023 08:12:13 INFO 139644852074304] Epoch[15] Time cost=5.133\u001b[0m\n",
      "\u001b[34m[08/10/2023 08:12:14 INFO 139644852074304] Epoch[15] Validation-accuracy=0.830357\u001b[0m\n",
      "\u001b[34m[08/10/2023 08:12:18 INFO 139644852074304] Epoch[16] Batch [20]#011Speed: 184.465 samples/sec#011accuracy=0.936012\u001b[0m\n",
      "\u001b[34m[08/10/2023 08:12:19 INFO 139644852074304] Epoch[16] Train-accuracy=0.929435\u001b[0m\n",
      "\u001b[34m[08/10/2023 08:12:19 INFO 139644852074304] Epoch[16] Time cost=5.168\u001b[0m\n",
      "\u001b[34m[08/10/2023 08:12:20 INFO 139644852074304] Epoch[16] Validation-accuracy=0.802083\u001b[0m\n",
      "\u001b[34m[08/10/2023 08:12:24 INFO 139644852074304] Epoch[17] Batch [20]#011Speed: 183.951 samples/sec#011accuracy=0.958333\u001b[0m\n",
      "\u001b[34m[08/10/2023 08:12:26 INFO 139644852074304] Epoch[17] Train-accuracy=0.948589\u001b[0m\n",
      "\u001b[34m[08/10/2023 08:12:26 INFO 139644852074304] Epoch[17] Time cost=5.174\u001b[0m\n",
      "\u001b[34m[08/10/2023 08:12:26 INFO 139644852074304] Epoch[17] Validation-accuracy=0.781250\u001b[0m\n",
      "\u001b[34m[08/10/2023 08:12:30 INFO 139644852074304] Epoch[18] Batch [20]#011Speed: 182.403 samples/sec#011accuracy=0.880952\u001b[0m\n",
      "\u001b[34m[08/10/2023 08:12:32 INFO 139644852074304] Epoch[18] Train-accuracy=0.902218\u001b[0m\n",
      "\u001b[34m[08/10/2023 08:12:32 INFO 139644852074304] Epoch[18] Time cost=5.232\u001b[0m\n",
      "\u001b[34m[08/10/2023 08:12:32 INFO 139644852074304] Epoch[18] Validation-accuracy=0.854167\u001b[0m\n",
      "\u001b[34m[08/10/2023 08:12:36 INFO 139644852074304] Epoch[19] Batch [20]#011Speed: 182.529 samples/sec#011accuracy=0.950893\u001b[0m\n",
      "\u001b[34m[08/10/2023 08:12:38 INFO 139644852074304] Epoch[19] Train-accuracy=0.943548\u001b[0m\n",
      "\u001b[34m[08/10/2023 08:12:38 INFO 139644852074304] Epoch[19] Time cost=5.214\u001b[0m\n",
      "\u001b[34m[08/10/2023 08:12:39 INFO 139644852074304] Epoch[19] Validation-accuracy=0.830357\u001b[0m\n",
      "\u001b[34m[08/10/2023 08:12:43 INFO 139644852074304] Epoch[20] Batch [20]#011Speed: 181.945 samples/sec#011accuracy=0.961310\u001b[0m\n",
      "\u001b[34m[08/10/2023 08:12:44 INFO 139644852074304] Epoch[20] Train-accuracy=0.961694\u001b[0m\n",
      "\u001b[34m[08/10/2023 08:12:44 INFO 139644852074304] Epoch[20] Time cost=5.226\u001b[0m\n",
      "\u001b[34m[08/10/2023 08:12:45 INFO 139644852074304] Epoch[20] Validation-accuracy=0.812500\u001b[0m\n",
      "\u001b[34m[08/10/2023 08:12:49 INFO 139644852074304] Epoch[21] Batch [20]#011Speed: 182.445 samples/sec#011accuracy=0.964286\u001b[0m\n",
      "\u001b[34m[08/10/2023 08:12:51 INFO 139644852074304] Epoch[21] Train-accuracy=0.954637\u001b[0m\n",
      "\u001b[34m[08/10/2023 08:12:51 INFO 139644852074304] Epoch[21] Time cost=5.264\u001b[0m\n",
      "\u001b[34m[08/10/2023 08:12:51 INFO 139644852074304] Epoch[21] Validation-accuracy=0.833333\u001b[0m\n",
      "\u001b[34m[08/10/2023 08:12:55 INFO 139644852074304] Epoch[22] Batch [20]#011Speed: 182.237 samples/sec#011accuracy=0.961310\u001b[0m\n",
      "\u001b[34m[08/10/2023 08:12:57 INFO 139644852074304] Epoch[22] Train-accuracy=0.952621\u001b[0m\n",
      "\u001b[34m[08/10/2023 08:12:57 INFO 139644852074304] Epoch[22] Time cost=5.237\u001b[0m\n",
      "\u001b[34m[08/10/2023 08:12:57 INFO 139644852074304] Epoch[22] Validation-accuracy=0.838542\u001b[0m\n",
      "\u001b[34m[08/10/2023 08:13:01 INFO 139644852074304] Epoch[23] Batch [20]#011Speed: 180.768 samples/sec#011accuracy=0.973214\u001b[0m\n",
      "\u001b[34m[08/10/2023 08:13:03 INFO 139644852074304] Epoch[23] Train-accuracy=0.968750\u001b[0m\n",
      "\u001b[34m[08/10/2023 08:13:03 INFO 139644852074304] Epoch[23] Time cost=5.324\u001b[0m\n",
      "\u001b[34m[08/10/2023 08:13:04 INFO 139644852074304] Epoch[23] Validation-accuracy=0.830357\u001b[0m\n",
      "\u001b[34m[08/10/2023 08:13:08 INFO 139644852074304] Epoch[24] Batch [20]#011Speed: 182.290 samples/sec#011accuracy=0.971726\u001b[0m\n",
      "\u001b[34m[08/10/2023 08:13:09 INFO 139644852074304] Epoch[24] Train-accuracy=0.968750\u001b[0m\n",
      "\u001b[34m[08/10/2023 08:13:09 INFO 139644852074304] Epoch[24] Time cost=5.236\u001b[0m\n",
      "\u001b[34m[08/10/2023 08:13:10 INFO 139644852074304] Epoch[24] Validation-accuracy=0.812500\u001b[0m\n",
      "\u001b[34m[08/10/2023 08:13:14 INFO 139644852074304] Epoch[25] Batch [20]#011Speed: 179.832 samples/sec#011accuracy=0.971726\u001b[0m\n",
      "\u001b[34m[08/10/2023 08:13:16 INFO 139644852074304] Epoch[25] Train-accuracy=0.968750\u001b[0m\n",
      "\u001b[34m[08/10/2023 08:13:16 INFO 139644852074304] Epoch[25] Time cost=5.289\u001b[0m\n",
      "\u001b[34m[08/10/2023 08:13:16 INFO 139644852074304] Epoch[25] Validation-accuracy=0.807292\u001b[0m\n",
      "\u001b[34m[08/10/2023 08:13:20 INFO 139644852074304] Epoch[26] Batch [20]#011Speed: 182.776 samples/sec#011accuracy=0.949405\u001b[0m\n",
      "\u001b[34m[08/10/2023 08:13:22 INFO 139644852074304] Epoch[26] Train-accuracy=0.955645\u001b[0m\n",
      "\u001b[34m[08/10/2023 08:13:22 INFO 139644852074304] Epoch[26] Time cost=5.229\u001b[0m\n",
      "\u001b[34m[08/10/2023 08:13:22 INFO 139644852074304] Epoch[26] Validation-accuracy=0.843750\u001b[0m\n",
      "\u001b[34m[08/10/2023 08:13:26 INFO 139644852074304] Epoch[27] Batch [20]#011Speed: 182.136 samples/sec#011accuracy=0.992560\u001b[0m\n",
      "\u001b[34m[08/10/2023 08:13:28 INFO 139644852074304] Epoch[27] Train-accuracy=0.991935\u001b[0m\n",
      "\u001b[34m[08/10/2023 08:13:28 INFO 139644852074304] Epoch[27] Time cost=5.249\u001b[0m\n",
      "\u001b[34m[08/10/2023 08:13:29 INFO 139644852074304] Epoch[27] Validation-accuracy=0.866071\u001b[0m\n",
      "\u001b[34m[08/10/2023 08:13:29 INFO 139644852074304] Storing the best model with validation accuracy: 0.866071\u001b[0m\n",
      "\u001b[34m[08/10/2023 08:13:29 INFO 139644852074304] Saved checkpoint to \"/opt/ml/model/image-classification-0028.params\"\u001b[0m\n",
      "\u001b[34m[08/10/2023 08:13:33 INFO 139644852074304] Epoch[28] Batch [20]#011Speed: 181.537 samples/sec#011accuracy=0.995536\u001b[0m\n",
      "\u001b[34m[08/10/2023 08:13:35 INFO 139644852074304] Epoch[28] Train-accuracy=0.984879\u001b[0m\n",
      "\u001b[34m[08/10/2023 08:13:35 INFO 139644852074304] Epoch[28] Time cost=5.251\u001b[0m\n",
      "\u001b[34m[08/10/2023 08:13:35 INFO 139644852074304] Epoch[28] Validation-accuracy=0.838542\u001b[0m\n",
      "\u001b[34m[08/10/2023 08:13:39 INFO 139644852074304] Epoch[29] Batch [20]#011Speed: 179.848 samples/sec#011accuracy=0.974702\u001b[0m\n",
      "\u001b[34m[08/10/2023 08:13:41 INFO 139644852074304] Epoch[29] Train-accuracy=0.975806\u001b[0m\n",
      "\u001b[34m[08/10/2023 08:13:41 INFO 139644852074304] Epoch[29] Time cost=5.286\u001b[0m\n",
      "\u001b[34m[08/10/2023 08:13:41 INFO 139644852074304] Epoch[29] Validation-accuracy=0.833333\u001b[0m\n",
      "\n",
      "2023-08-10 08:13:46 Uploading - Uploading generated training model\n",
      "2023-08-10 08:14:12 Completed - Training job completed\n",
      "Training seconds: 468\n",
      "Billable seconds: 468\n"
     ]
    }
   ],
   "source": [
    "## TODO: train your model\n",
    "img_classifier_model.fit(model_inputs)"
   ]
  },
  {
   "cell_type": "markdown",
   "metadata": {},
   "source": [
    "If all goes well, you'll end up with a model topping out above `.8` validation accuracy. With only 1000 training samples in the CIFAR dataset, that's pretty good. We could definitely pursue data augmentation & gathering more samples to help us improve further, but for now let's proceed to deploy our model.\n",
    "\n",
    "### Getting ready to deploy\n",
    "\n",
    "To begin with, let's configure Model Monitor to track our deployment. We'll define a `DataCaptureConfig` below:"
   ]
  },
  {
   "cell_type": "code",
   "execution_count": 124,
   "metadata": {
    "tags": []
   },
   "outputs": [],
   "source": [
    "from sagemaker.model_monitor import DataCaptureConfig\n",
    "\n",
    "data_capture_config = DataCaptureConfig(\n",
    "    ## TODO: Set config options\n",
    "    enable_capture=True,\n",
    "    sampling_percentage=100,\n",
    "    destination_s3_uri=f\"s3://{bucket}/data_capture\"\n",
    ")"
   ]
  },
  {
   "cell_type": "markdown",
   "metadata": {},
   "source": [
    "Note the `destination_s3_uri` parameter: At the end of the project, we can explore the `data_capture` directory in S3 to find crucial data about the inputs and outputs Model Monitor has observed on our model endpoint over time.\n",
    "\n",
    "With that done, deploy your model on a single `ml.m5.xlarge` instance with the data capture config attached:"
   ]
  },
  {
   "cell_type": "code",
   "execution_count": 125,
   "metadata": {
    "tags": []
   },
   "outputs": [
    {
     "name": "stderr",
     "output_type": "stream",
     "text": [
      "INFO:sagemaker:Creating model with name: image-classification-2023-08-10-08-15-12-354\n",
      "INFO:sagemaker:Creating endpoint-config with name image-classification-2023-08-10-08-15-12-354\n",
      "INFO:sagemaker:Creating endpoint with name image-classification-2023-08-10-08-15-12-354\n"
     ]
    },
    {
     "name": "stdout",
     "output_type": "stream",
     "text": [
      "---------!image-classification-2023-08-10-08-15-12-354\n"
     ]
    }
   ],
   "source": [
    "deployment = img_classifier_model.deploy(\n",
    "    ## TODO: fill in deployment options\n",
    "    data_capture_config=data_capture_config,\n",
    "    initial_instance_count=1,\n",
    "    instance_type='ml.m5.xlarge',\n",
    "    )\n",
    "\n",
    "endpoint = deployment.endpoint_name\n",
    "print(endpoint)"
   ]
  },
  {
   "cell_type": "markdown",
   "metadata": {},
   "source": [
    "Note the endpoint name for later as well.\n",
    "\n",
    "Next, instantiate a Predictor:"
   ]
  },
  {
   "cell_type": "code",
   "execution_count": 145,
   "metadata": {
    "tags": []
   },
   "outputs": [],
   "source": [
    "predictor = sagemaker.predictor.Predictor(endpoint_name=endpoint)"
   ]
  },
  {
   "cell_type": "markdown",
   "metadata": {},
   "source": [
    "In the code snippet below we are going to prepare one of your saved images for prediction. Use the predictor to process the `payload`."
   ]
  },
  {
   "cell_type": "code",
   "execution_count": 136,
   "metadata": {
    "tags": []
   },
   "outputs": [],
   "source": [
    "from sagemaker.serializers import IdentitySerializer\n",
    "import base64\n",
    "\n",
    "predictor.serializer = IdentitySerializer(\"image/png\")\n",
    "with open(\"./test/bicycle_s_001107.png\", \"rb\") as f:\n",
    "    payload = f.read()\n",
    "\n",
    "    \n",
    "inference = predictor.predict(payload)\n"
   ]
  },
  {
   "cell_type": "markdown",
   "metadata": {},
   "source": [
    "Your `inference` object is an array of two values, the predicted probability value for each of your classes (bicycle and motorcycle respectively.) So, for example, a value of `b'[0.91, 0.09]'` indicates the probability of being a bike is 91% and being a motorcycle is 9%."
   ]
  },
  {
   "cell_type": "code",
   "execution_count": null,
   "metadata": {
    "tags": []
   },
   "outputs": [],
   "source": [
    "print(inference)"
   ]
  },
  {
   "cell_type": "markdown",
   "metadata": {},
   "source": [
    "### Draft Lambdas and Step Function Workflow\n",
    "\n",
    "Your operations team uses Step Functions to orchestrate serverless workflows. One of the nice things about Step Functions is that [workflows can call other workflows](https://docs.aws.amazon.com/step-functions/latest/dg/connect-stepfunctions.html), so the team can easily plug your workflow into the broader production architecture for Scones Unlimited.\n",
    "\n",
    "In this next stage you're going to write and deploy three Lambda functions, and then use the Step Functions visual editor to chain them together! Our functions are going to work with a simple data object:\n",
    "\n",
    "```python\n",
    "{\n",
    "    \"inferences\": [], # Output of predictor.predict\n",
    "    \"s3_key\": \"\", # Source data S3 key\n",
    "    \"s3_bucket\": \"\", # Source data S3 bucket\n",
    "    \"image_data\": \"\"  # base64 encoded string containing the image data\n",
    "}\n",
    "```\n",
    "\n",
    "A good test object that you can use for Lambda tests and Step Function executions, throughout the next section, might look like this:\n",
    "\n",
    "```python\n",
    "{\n",
    "  \"image_data\": \"\",\n",
    "  \"s3_bucket\": MY_BUCKET_NAME, # Fill in with your bucket\n",
    "  \"s3_key\": \"test/bicycle_s_000513.png\"\n",
    "}\n",
    "```\n",
    "\n",
    "Using these fields, your functions can read and write the necessary data to execute your workflow. Let's start with the first function. Your first Lambda function will copy an object from S3, base64 encode it, and then return it to the step function as `image_data` in an event.\n",
    "\n",
    "Go to the Lambda dashboard and create a new Lambda function with a descriptive name like \"serializeImageData\" and select thr 'Python 3.8' runtime. Add the same permissions as the SageMaker role you created earlier. (Reminder: you do this in the Configuration tab under \"Permissions\"). Once you're ready, use the starter code below to craft your Lambda handler:\n",
    "\n",
    "```python\n",
    "import json\n",
    "import boto3\n",
    "import base64\n",
    "\n",
    "s3 = boto3.client('s3')\n",
    "\n",
    "def lambda_handler(event, context):\n",
    "    \"\"\"A function to serialize target data from S3\"\"\"\n",
    "    \n",
    "    # Get the s3 address from the Step Function event input\n",
    "    key = ## TODO: fill in\n",
    "    bucket = ## TODO: fill in\n",
    "    \n",
    "    # Download the data from s3 to /tmp/image.png\n",
    "    ## TODO: fill in\n",
    "    \n",
    "    # We read the data from a file\n",
    "    with open(\"/tmp/image.png\", \"rb\") as f:\n",
    "        image_data = base64.b64encode(f.read())\n",
    "\n",
    "    # Pass the data back to the Step Function\n",
    "    print(\"Event:\", event.keys())\n",
    "    return {\n",
    "        'statusCode': 200,\n",
    "        'body': {\n",
    "            \"image_data\": image_data,\n",
    "            \"s3_bucket\": bucket,\n",
    "            \"s3_key\": key,\n",
    "            \"inferences\": []\n",
    "        }\n",
    "    }\n",
    "```\n",
    "\n",
    "The next function is responsible for the classification part - we're going to take the image output from the previous function, decode it, and then pass inferences back to the the Step Function.\n",
    "\n",
    "Because this Lambda will have runtime dependencies (i.e. the SageMaker SDK) you'll need to package them in your function. *Key reading:* https://docs.aws.amazon.com/lambda/latest/dg/python-package-create.html#python-package-create-with-dependency\n",
    "\n",
    "Create a new Lambda function with the same rights and a descriptive name, then fill in the starter code below for your classifier Lambda.\n",
    "\n",
    "```python\n",
    "import json\n",
    "import sagemaker\n",
    "import base64\n",
    "from sagemaker.serializers import IdentitySerializer\n",
    "\n",
    "# Fill this in with the name of your deployed model\n",
    "ENDPOINT = ## TODO: fill in\n",
    "\n",
    "def lambda_handler(event, context):\n",
    "\n",
    "    # Decode the image data\n",
    "    image = base64.b64decode(## TODO: fill in)\n",
    "\n",
    "    # Instantiate a Predictor\n",
    "    predictor = ## TODO: fill in\n",
    "\n",
    "    # For this model the IdentitySerializer needs to be \"image/png\"\n",
    "    predictor.serializer = IdentitySerializer(\"image/png\")\n",
    "    \n",
    "    # Make a prediction:\n",
    "    inferences = ## TODO: fill in\n",
    "    \n",
    "    # We return the data back to the Step Function    \n",
    "    event[\"inferences\"] = inferences.decode('utf-8')\n",
    "    return {\n",
    "        'statusCode': 200,\n",
    "        'body': json.dumps(event)\n",
    "    }\n",
    "```\n",
    "\n",
    "Finally, we need to filter low-confidence inferences. Define a threshold between 1.00 and 0.000 for your model: what is reasonble for you? If the model predicts at `.70` for it's highest confidence label, do we want to pass that inference along to downstream systems? Make one last Lambda function and tee up the same permissions:\n",
    "\n",
    "```python\n",
    "import json\n",
    "\n",
    "\n",
    "THRESHOLD = .93\n",
    "\n",
    "\n",
    "def lambda_handler(event, context):\n",
    "    \n",
    "    # Grab the inferences from the event\n",
    "    inferences = ## TODO: fill in\n",
    "    \n",
    "    # Check if any values in our inferences are above THRESHOLD\n",
    "    meets_threshold = ## TODO: fill in\n",
    "    \n",
    "    # If our threshold is met, pass our data back out of the\n",
    "    # Step Function, else, end the Step Function with an error\n",
    "    if meets_threshold:\n",
    "        pass\n",
    "    else:\n",
    "        raise(\"THRESHOLD_CONFIDENCE_NOT_MET\")\n",
    "\n",
    "    return {\n",
    "        'statusCode': 200,\n",
    "        'body': json.dumps(event)\n",
    "    }\n",
    "```\n",
    "Once you have tested the lambda functions, save the code for each lambda function in a python script called 'lambda.py'.\n",
    "\n",
    "With your lambdas in place, you can use the Step Functions visual editor to construct a workflow that chains them together. In the Step Functions console you'll have the option to author a Standard step function *Visually*.\n",
    "\n",
    "When the visual editor opens, you'll have many options to add transitions in your workflow. We're going to keep it simple and have just one: to invoke Lambda functions. Add three of them chained together. For each one, you'll be able to select the Lambda functions you just created in the proper order, filter inputs and outputs, and give them descriptive names.\n",
    "\n",
    "Make sure that you:\n",
    "\n",
    "1. Are properly filtering the inputs and outputs of your invokations (e.g. `$.body`)\n",
    "2. Take care to remove the error handling from the last function - it's supposed to \"fail loudly\" for your operations colleagues!\n",
    "\n",
    "Take a screenshot of your working step function in action and export the step function as JSON for your submission package."
   ]
  },
  {
   "cell_type": "markdown",
   "metadata": {},
   "source": [
    "\n",
    "Great! Now you can use the files in `./test` as test files for our workflow. Depending on our threshold, our workflow should reliably pass predictions about images from `./test` on to downstream systems, while erroring out for inferences below our confidence threshold!\n",
    "\n",
    "### Testing and Evaluation\n",
    "\n",
    "Do several step function invokations using data from the `./test` folder. This process should give you confidence that the workflow both *succeeds* AND *fails* as expected. In addition, SageMaker Model Monitor will generate recordings of your data and inferences which we can visualize.\n",
    "\n",
    "Here's a function that can help you generate test inputs for your invokations:"
   ]
  },
  {
   "cell_type": "code",
   "execution_count": 141,
   "metadata": {
    "tags": []
   },
   "outputs": [
    {
     "data": {
      "text/plain": [
       "'{\"image_data\": \"\", \"s3_bucket\": \"sagemaker-us-east-1-398094323019\", \"s3_key\": \"test/velocipede_s_000041.png\"}'"
      ]
     },
     "execution_count": 141,
     "metadata": {},
     "output_type": "execute_result"
    }
   ],
   "source": [
    "import random\n",
    "import boto3\n",
    "import json\n",
    "\n",
    "\n",
    "def generate_test_case():\n",
    "    # Setup s3 in boto3\n",
    "    s3 = boto3.resource('s3')\n",
    "    \n",
    "    # Randomly pick from sfn or test folders in our bucket\n",
    "    objects = s3.Bucket(bucket).objects.filter(Prefix=\"test\")\n",
    "    \n",
    "    # Grab any random object key from that folder!\n",
    "    obj = random.choice([x.key for x in objects])\n",
    "    \n",
    "    return json.dumps({\n",
    "        \"image_data\": \"\",\n",
    "        \"s3_bucket\": bucket,\n",
    "        \"s3_key\": obj\n",
    "    })\n",
    "generate_test_case()"
   ]
  },
  {
   "cell_type": "markdown",
   "metadata": {},
   "source": [
    "In the Step Function dashboard for your new function, you can create new executions and copy in the generated test cases. Do several executions so that you can generate data you can evaluate and visualize.\n",
    "\n",
    "Once you've done several executions, let's visualize the record of our inferences. Pull in the JSONLines data from your inferences like so:"
   ]
  },
  {
   "cell_type": "code",
   "execution_count": null,
   "metadata": {},
   "outputs": [],
   "source": [
    "from sagemaker.s3 import S3Downloader\n",
    "\n",
    "# In S3 your data will be saved to a datetime-aware path\n",
    "# Find a path related to a datetime you're interested in\n",
    "data_path = \"s3://sagemaker-us-east-1-835319576252/captured_data/2023-08-10-12-15-12-354\"\n",
    "\n",
    "S3Downloader.download(data_path, \"captured_data\")\n",
    "\n",
    "# Feel free to repeat this multiple times and pull in more data"
   ]
  },
  {
   "cell_type": "markdown",
   "metadata": {},
   "source": [
    "The data are in JSONLines format, where multiple valid JSON objects are stacked on top of eachother in a single `jsonl` file. We'll import an open-source library, `jsonlines` that was purpose built for parsing this format."
   ]
  },
  {
   "cell_type": "code",
   "execution_count": null,
   "metadata": {},
   "outputs": [],
   "source": [
    "!pip install jsonlines\n",
    "import jsonlines"
   ]
  },
  {
   "cell_type": "markdown",
   "metadata": {},
   "source": [
    "Now we can extract the data from each of the source files:"
   ]
  },
  {
   "cell_type": "code",
   "execution_count": null,
   "metadata": {},
   "outputs": [],
   "source": [
    "import os\n",
    "\n",
    "# List the file names we downloaded\n",
    "file_handles = os.listdir(\"./captured_data\")\n",
    "\n",
    "# Dump all the data into an array\n",
    "json_data = []\n",
    "for jsonl in file_handles:\n",
    "    with jsonlines.open(f\"./captured_data/{jsonl}\") as f:\n",
    "        json_data.append(f.read())"
   ]
  },
  {
   "cell_type": "markdown",
   "metadata": {},
   "source": [
    "The data should now be a list of dictionaries, with significant nesting. We'll give you an example of some code that grabs data out of the objects and visualizes it:"
   ]
  },
  {
   "cell_type": "code",
   "execution_count": null,
   "metadata": {},
   "outputs": [],
   "source": [
    "# Define how we'll get our data\n",
    "def simple_getter(obj):\n",
    "    inferences = obj[\"captureData\"][\"endpointOutput\"][\"data\"]\n",
    "    timestamp = obj[\"eventMetadata\"][\"inferenceTime\"]\n",
    "    return json.loads(inferences), timestamp\n",
    "\n",
    "simple_getter(json_data[0])"
   ]
  },
  {
   "cell_type": "markdown",
   "metadata": {},
   "source": [
    "Finally, here's an example of a visualization you can build with this data. In this last part, you will take some time and build your own - the captured data has the input images, the resulting inferences, and the timestamps."
   ]
  },
  {
   "cell_type": "code",
   "execution_count": null,
   "metadata": {},
   "outputs": [],
   "source": [
    "# Populate the data for the x and y axis\n",
    "x = []\n",
    "y = []\n",
    "for obj in json_data:\n",
    "    inference, timestamp = simple_getter(obj)\n",
    "    \n",
    "    y.append(max(inference))\n",
    "    x.append(timestamp)\n",
    "\n",
    "# Todo: here is an visualization example, take some time to build another visual that helps monitor the result\n",
    "# Plot the data\n",
    "plt.scatter(x, y, c=['r' if k<.94 else 'b' for k in y ])\n",
    "plt.axhline(y=0.94, color='g', linestyle='--')\n",
    "plt.ylim(bottom=.88)\n",
    "\n",
    "# Add labels\n",
    "plt.ylabel(\"Confidence\")\n",
    "plt.suptitle(\"Observed Recent Inferences\", size=14)\n",
    "plt.title(\"Pictured with confidence threshold for production use\", size=10)\n",
    "\n",
    "# Give it some pizzaz!\n",
    "plt.style.use(\"Solarize_Light2\")\n",
    "plt.gcf().autofmt_xdate()"
   ]
  },
  {
   "cell_type": "markdown",
   "metadata": {},
   "source": [
    "### Todo: build your own visualization\n"
   ]
  },
  {
   "cell_type": "markdown",
   "metadata": {},
   "source": [
    "### Congratulations!\n",
    "\n",
    "You've reached the end of the project. In this project you created an event-drivent ML workflow that can be incorporated into the Scones Unlimited production architecture. You used the SageMaker Estimator API to deploy your SageMaker Model and Endpoint, and you used AWS Lambda and Step Functions to orchestrate your ML workflow. Using SageMaker Model Monitor, you instrumented and observed your Endpoint, and at the end of the project you built a visualization to help stakeholders understand the performance of the Endpoint over time. If you're up for it, you can even go further with these stretch goals:\n",
    "\n",
    "* Extend your workflow to incorporate more classes: the CIFAR dataset includes other vehicles that Scones Unlimited can identify with this model.\n",
    "* Modify your event driven workflow: can you rewrite your Lambda functions so that the workflow can process multiple image inputs in parallel? Can the Step Function \"fan out\" to accomodate this new workflow?\n",
    "* Consider the test data generator we provided for you. Can we use it to create a \"dummy data\" generator, to simulate a continuous stream of input data? Or a big paralell load of data?\n",
    "* What if we want to get notified every time our step function errors out? Can we use the Step Functions visual editor in conjunction with a service like SNS to accomplish this? Try it out!\n",
    "\n",
    "\n"
   ]
  }
 ],
 "metadata": {
  "availableInstances": [
   {
    "_defaultOrder": 0,
    "_isFastLaunch": true,
    "category": "General purpose",
    "gpuNum": 0,
    "hideHardwareSpecs": false,
    "memoryGiB": 4,
    "name": "ml.t3.medium",
    "vcpuNum": 2
   },
   {
    "_defaultOrder": 1,
    "_isFastLaunch": false,
    "category": "General purpose",
    "gpuNum": 0,
    "hideHardwareSpecs": false,
    "memoryGiB": 8,
    "name": "ml.t3.large",
    "vcpuNum": 2
   },
   {
    "_defaultOrder": 2,
    "_isFastLaunch": false,
    "category": "General purpose",
    "gpuNum": 0,
    "hideHardwareSpecs": false,
    "memoryGiB": 16,
    "name": "ml.t3.xlarge",
    "vcpuNum": 4
   },
   {
    "_defaultOrder": 3,
    "_isFastLaunch": false,
    "category": "General purpose",
    "gpuNum": 0,
    "hideHardwareSpecs": false,
    "memoryGiB": 32,
    "name": "ml.t3.2xlarge",
    "vcpuNum": 8
   },
   {
    "_defaultOrder": 4,
    "_isFastLaunch": true,
    "category": "General purpose",
    "gpuNum": 0,
    "hideHardwareSpecs": false,
    "memoryGiB": 8,
    "name": "ml.m5.large",
    "vcpuNum": 2
   },
   {
    "_defaultOrder": 5,
    "_isFastLaunch": false,
    "category": "General purpose",
    "gpuNum": 0,
    "hideHardwareSpecs": false,
    "memoryGiB": 16,
    "name": "ml.m5.xlarge",
    "vcpuNum": 4
   },
   {
    "_defaultOrder": 6,
    "_isFastLaunch": false,
    "category": "General purpose",
    "gpuNum": 0,
    "hideHardwareSpecs": false,
    "memoryGiB": 32,
    "name": "ml.m5.2xlarge",
    "vcpuNum": 8
   },
   {
    "_defaultOrder": 7,
    "_isFastLaunch": false,
    "category": "General purpose",
    "gpuNum": 0,
    "hideHardwareSpecs": false,
    "memoryGiB": 64,
    "name": "ml.m5.4xlarge",
    "vcpuNum": 16
   },
   {
    "_defaultOrder": 8,
    "_isFastLaunch": false,
    "category": "General purpose",
    "gpuNum": 0,
    "hideHardwareSpecs": false,
    "memoryGiB": 128,
    "name": "ml.m5.8xlarge",
    "vcpuNum": 32
   },
   {
    "_defaultOrder": 9,
    "_isFastLaunch": false,
    "category": "General purpose",
    "gpuNum": 0,
    "hideHardwareSpecs": false,
    "memoryGiB": 192,
    "name": "ml.m5.12xlarge",
    "vcpuNum": 48
   },
   {
    "_defaultOrder": 10,
    "_isFastLaunch": false,
    "category": "General purpose",
    "gpuNum": 0,
    "hideHardwareSpecs": false,
    "memoryGiB": 256,
    "name": "ml.m5.16xlarge",
    "vcpuNum": 64
   },
   {
    "_defaultOrder": 11,
    "_isFastLaunch": false,
    "category": "General purpose",
    "gpuNum": 0,
    "hideHardwareSpecs": false,
    "memoryGiB": 384,
    "name": "ml.m5.24xlarge",
    "vcpuNum": 96
   },
   {
    "_defaultOrder": 12,
    "_isFastLaunch": false,
    "category": "General purpose",
    "gpuNum": 0,
    "hideHardwareSpecs": false,
    "memoryGiB": 8,
    "name": "ml.m5d.large",
    "vcpuNum": 2
   },
   {
    "_defaultOrder": 13,
    "_isFastLaunch": false,
    "category": "General purpose",
    "gpuNum": 0,
    "hideHardwareSpecs": false,
    "memoryGiB": 16,
    "name": "ml.m5d.xlarge",
    "vcpuNum": 4
   },
   {
    "_defaultOrder": 14,
    "_isFastLaunch": false,
    "category": "General purpose",
    "gpuNum": 0,
    "hideHardwareSpecs": false,
    "memoryGiB": 32,
    "name": "ml.m5d.2xlarge",
    "vcpuNum": 8
   },
   {
    "_defaultOrder": 15,
    "_isFastLaunch": false,
    "category": "General purpose",
    "gpuNum": 0,
    "hideHardwareSpecs": false,
    "memoryGiB": 64,
    "name": "ml.m5d.4xlarge",
    "vcpuNum": 16
   },
   {
    "_defaultOrder": 16,
    "_isFastLaunch": false,
    "category": "General purpose",
    "gpuNum": 0,
    "hideHardwareSpecs": false,
    "memoryGiB": 128,
    "name": "ml.m5d.8xlarge",
    "vcpuNum": 32
   },
   {
    "_defaultOrder": 17,
    "_isFastLaunch": false,
    "category": "General purpose",
    "gpuNum": 0,
    "hideHardwareSpecs": false,
    "memoryGiB": 192,
    "name": "ml.m5d.12xlarge",
    "vcpuNum": 48
   },
   {
    "_defaultOrder": 18,
    "_isFastLaunch": false,
    "category": "General purpose",
    "gpuNum": 0,
    "hideHardwareSpecs": false,
    "memoryGiB": 256,
    "name": "ml.m5d.16xlarge",
    "vcpuNum": 64
   },
   {
    "_defaultOrder": 19,
    "_isFastLaunch": false,
    "category": "General purpose",
    "gpuNum": 0,
    "hideHardwareSpecs": false,
    "memoryGiB": 384,
    "name": "ml.m5d.24xlarge",
    "vcpuNum": 96
   },
   {
    "_defaultOrder": 20,
    "_isFastLaunch": false,
    "category": "General purpose",
    "gpuNum": 0,
    "hideHardwareSpecs": true,
    "memoryGiB": 0,
    "name": "ml.geospatial.interactive",
    "supportedImageNames": [
     "sagemaker-geospatial-v1-0"
    ],
    "vcpuNum": 0
   },
   {
    "_defaultOrder": 21,
    "_isFastLaunch": true,
    "category": "Compute optimized",
    "gpuNum": 0,
    "hideHardwareSpecs": false,
    "memoryGiB": 4,
    "name": "ml.c5.large",
    "vcpuNum": 2
   },
   {
    "_defaultOrder": 22,
    "_isFastLaunch": false,
    "category": "Compute optimized",
    "gpuNum": 0,
    "hideHardwareSpecs": false,
    "memoryGiB": 8,
    "name": "ml.c5.xlarge",
    "vcpuNum": 4
   },
   {
    "_defaultOrder": 23,
    "_isFastLaunch": false,
    "category": "Compute optimized",
    "gpuNum": 0,
    "hideHardwareSpecs": false,
    "memoryGiB": 16,
    "name": "ml.c5.2xlarge",
    "vcpuNum": 8
   },
   {
    "_defaultOrder": 24,
    "_isFastLaunch": false,
    "category": "Compute optimized",
    "gpuNum": 0,
    "hideHardwareSpecs": false,
    "memoryGiB": 32,
    "name": "ml.c5.4xlarge",
    "vcpuNum": 16
   },
   {
    "_defaultOrder": 25,
    "_isFastLaunch": false,
    "category": "Compute optimized",
    "gpuNum": 0,
    "hideHardwareSpecs": false,
    "memoryGiB": 72,
    "name": "ml.c5.9xlarge",
    "vcpuNum": 36
   },
   {
    "_defaultOrder": 26,
    "_isFastLaunch": false,
    "category": "Compute optimized",
    "gpuNum": 0,
    "hideHardwareSpecs": false,
    "memoryGiB": 96,
    "name": "ml.c5.12xlarge",
    "vcpuNum": 48
   },
   {
    "_defaultOrder": 27,
    "_isFastLaunch": false,
    "category": "Compute optimized",
    "gpuNum": 0,
    "hideHardwareSpecs": false,
    "memoryGiB": 144,
    "name": "ml.c5.18xlarge",
    "vcpuNum": 72
   },
   {
    "_defaultOrder": 28,
    "_isFastLaunch": false,
    "category": "Compute optimized",
    "gpuNum": 0,
    "hideHardwareSpecs": false,
    "memoryGiB": 192,
    "name": "ml.c5.24xlarge",
    "vcpuNum": 96
   },
   {
    "_defaultOrder": 29,
    "_isFastLaunch": true,
    "category": "Accelerated computing",
    "gpuNum": 1,
    "hideHardwareSpecs": false,
    "memoryGiB": 16,
    "name": "ml.g4dn.xlarge",
    "vcpuNum": 4
   },
   {
    "_defaultOrder": 30,
    "_isFastLaunch": false,
    "category": "Accelerated computing",
    "gpuNum": 1,
    "hideHardwareSpecs": false,
    "memoryGiB": 32,
    "name": "ml.g4dn.2xlarge",
    "vcpuNum": 8
   },
   {
    "_defaultOrder": 31,
    "_isFastLaunch": false,
    "category": "Accelerated computing",
    "gpuNum": 1,
    "hideHardwareSpecs": false,
    "memoryGiB": 64,
    "name": "ml.g4dn.4xlarge",
    "vcpuNum": 16
   },
   {
    "_defaultOrder": 32,
    "_isFastLaunch": false,
    "category": "Accelerated computing",
    "gpuNum": 1,
    "hideHardwareSpecs": false,
    "memoryGiB": 128,
    "name": "ml.g4dn.8xlarge",
    "vcpuNum": 32
   },
   {
    "_defaultOrder": 33,
    "_isFastLaunch": false,
    "category": "Accelerated computing",
    "gpuNum": 4,
    "hideHardwareSpecs": false,
    "memoryGiB": 192,
    "name": "ml.g4dn.12xlarge",
    "vcpuNum": 48
   },
   {
    "_defaultOrder": 34,
    "_isFastLaunch": false,
    "category": "Accelerated computing",
    "gpuNum": 1,
    "hideHardwareSpecs": false,
    "memoryGiB": 256,
    "name": "ml.g4dn.16xlarge",
    "vcpuNum": 64
   },
   {
    "_defaultOrder": 35,
    "_isFastLaunch": false,
    "category": "Accelerated computing",
    "gpuNum": 1,
    "hideHardwareSpecs": false,
    "memoryGiB": 61,
    "name": "ml.p3.2xlarge",
    "vcpuNum": 8
   },
   {
    "_defaultOrder": 36,
    "_isFastLaunch": false,
    "category": "Accelerated computing",
    "gpuNum": 4,
    "hideHardwareSpecs": false,
    "memoryGiB": 244,
    "name": "ml.p3.8xlarge",
    "vcpuNum": 32
   },
   {
    "_defaultOrder": 37,
    "_isFastLaunch": false,
    "category": "Accelerated computing",
    "gpuNum": 8,
    "hideHardwareSpecs": false,
    "memoryGiB": 488,
    "name": "ml.p3.16xlarge",
    "vcpuNum": 64
   },
   {
    "_defaultOrder": 38,
    "_isFastLaunch": false,
    "category": "Accelerated computing",
    "gpuNum": 8,
    "hideHardwareSpecs": false,
    "memoryGiB": 768,
    "name": "ml.p3dn.24xlarge",
    "vcpuNum": 96
   },
   {
    "_defaultOrder": 39,
    "_isFastLaunch": false,
    "category": "Memory Optimized",
    "gpuNum": 0,
    "hideHardwareSpecs": false,
    "memoryGiB": 16,
    "name": "ml.r5.large",
    "vcpuNum": 2
   },
   {
    "_defaultOrder": 40,
    "_isFastLaunch": false,
    "category": "Memory Optimized",
    "gpuNum": 0,
    "hideHardwareSpecs": false,
    "memoryGiB": 32,
    "name": "ml.r5.xlarge",
    "vcpuNum": 4
   },
   {
    "_defaultOrder": 41,
    "_isFastLaunch": false,
    "category": "Memory Optimized",
    "gpuNum": 0,
    "hideHardwareSpecs": false,
    "memoryGiB": 64,
    "name": "ml.r5.2xlarge",
    "vcpuNum": 8
   },
   {
    "_defaultOrder": 42,
    "_isFastLaunch": false,
    "category": "Memory Optimized",
    "gpuNum": 0,
    "hideHardwareSpecs": false,
    "memoryGiB": 128,
    "name": "ml.r5.4xlarge",
    "vcpuNum": 16
   },
   {
    "_defaultOrder": 43,
    "_isFastLaunch": false,
    "category": "Memory Optimized",
    "gpuNum": 0,
    "hideHardwareSpecs": false,
    "memoryGiB": 256,
    "name": "ml.r5.8xlarge",
    "vcpuNum": 32
   },
   {
    "_defaultOrder": 44,
    "_isFastLaunch": false,
    "category": "Memory Optimized",
    "gpuNum": 0,
    "hideHardwareSpecs": false,
    "memoryGiB": 384,
    "name": "ml.r5.12xlarge",
    "vcpuNum": 48
   },
   {
    "_defaultOrder": 45,
    "_isFastLaunch": false,
    "category": "Memory Optimized",
    "gpuNum": 0,
    "hideHardwareSpecs": false,
    "memoryGiB": 512,
    "name": "ml.r5.16xlarge",
    "vcpuNum": 64
   },
   {
    "_defaultOrder": 46,
    "_isFastLaunch": false,
    "category": "Memory Optimized",
    "gpuNum": 0,
    "hideHardwareSpecs": false,
    "memoryGiB": 768,
    "name": "ml.r5.24xlarge",
    "vcpuNum": 96
   },
   {
    "_defaultOrder": 47,
    "_isFastLaunch": false,
    "category": "Accelerated computing",
    "gpuNum": 1,
    "hideHardwareSpecs": false,
    "memoryGiB": 16,
    "name": "ml.g5.xlarge",
    "vcpuNum": 4
   },
   {
    "_defaultOrder": 48,
    "_isFastLaunch": false,
    "category": "Accelerated computing",
    "gpuNum": 1,
    "hideHardwareSpecs": false,
    "memoryGiB": 32,
    "name": "ml.g5.2xlarge",
    "vcpuNum": 8
   },
   {
    "_defaultOrder": 49,
    "_isFastLaunch": false,
    "category": "Accelerated computing",
    "gpuNum": 1,
    "hideHardwareSpecs": false,
    "memoryGiB": 64,
    "name": "ml.g5.4xlarge",
    "vcpuNum": 16
   },
   {
    "_defaultOrder": 50,
    "_isFastLaunch": false,
    "category": "Accelerated computing",
    "gpuNum": 1,
    "hideHardwareSpecs": false,
    "memoryGiB": 128,
    "name": "ml.g5.8xlarge",
    "vcpuNum": 32
   },
   {
    "_defaultOrder": 51,
    "_isFastLaunch": false,
    "category": "Accelerated computing",
    "gpuNum": 1,
    "hideHardwareSpecs": false,
    "memoryGiB": 256,
    "name": "ml.g5.16xlarge",
    "vcpuNum": 64
   },
   {
    "_defaultOrder": 52,
    "_isFastLaunch": false,
    "category": "Accelerated computing",
    "gpuNum": 4,
    "hideHardwareSpecs": false,
    "memoryGiB": 192,
    "name": "ml.g5.12xlarge",
    "vcpuNum": 48
   },
   {
    "_defaultOrder": 53,
    "_isFastLaunch": false,
    "category": "Accelerated computing",
    "gpuNum": 4,
    "hideHardwareSpecs": false,
    "memoryGiB": 384,
    "name": "ml.g5.24xlarge",
    "vcpuNum": 96
   },
   {
    "_defaultOrder": 54,
    "_isFastLaunch": false,
    "category": "Accelerated computing",
    "gpuNum": 8,
    "hideHardwareSpecs": false,
    "memoryGiB": 768,
    "name": "ml.g5.48xlarge",
    "vcpuNum": 192
   },
   {
    "_defaultOrder": 55,
    "_isFastLaunch": false,
    "category": "Accelerated computing",
    "gpuNum": 8,
    "hideHardwareSpecs": false,
    "memoryGiB": 1152,
    "name": "ml.p4d.24xlarge",
    "vcpuNum": 96
   },
   {
    "_defaultOrder": 56,
    "_isFastLaunch": false,
    "category": "Accelerated computing",
    "gpuNum": 8,
    "hideHardwareSpecs": false,
    "memoryGiB": 1152,
    "name": "ml.p4de.24xlarge",
    "vcpuNum": 96
   }
  ],
  "instance_type": "ml.t3.medium",
  "kernelspec": {
   "display_name": "jobs",
   "language": "python",
   "name": "python3"
  },
  "language_info": {
   "codemirror_mode": {
    "name": "ipython",
    "version": 3
   },
   "file_extension": ".py",
   "mimetype": "text/x-python",
   "name": "python",
   "nbconvert_exporter": "python",
   "pygments_lexer": "ipython3",
   "version": "3.10.11"
  }
 },
 "nbformat": 4,
 "nbformat_minor": 4
}
